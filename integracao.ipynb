{
 "cells": [
  {
   "cell_type": "code",
   "execution_count": 1,
   "metadata": {
    "collapsed": false,
    "pycharm": {
     "name": "#%%\n"
    }
   },
   "outputs": [],
   "source": [
    "import numpy as np\n",
    "import matplotlib.pyplot as plt\n",
    "from tabulate import tabulate\n",
    "from scipy import integrate"
   ]
  },
  {
   "cell_type": "markdown",
   "metadata": {
    "collapsed": false,
    "pycharm": {
     "name": "#%% md\n"
    }
   },
   "source": [
    "Métodos númericos pode ser usado para integrar funções definidas, tanto na forma analítica quanto na forma tabular"
   ]
  },
  {
   "cell_type": "code",
   "execution_count": 2,
   "metadata": {
    "collapsed": false,
    "pycharm": {
     "name": "#%%\n"
    }
   },
   "outputs": [
    {
     "data": {
      "image/png": "[encoded data removed]",
      "text/plain": [
       "<Figure size 432x288 with 1 Axes>"
      ]
     },
     "metadata": {
      "needs_background": "light"
     },
     "output_type": "display_data"
    }
   ],
   "source": [
    "def func(x): return (x/10) * (np.exp(x))\n",
    "x = np.linspace(0, 3, 7)\n",
    "y = func(x)\n",
    "plt.plot(x, y, color='green')\n",
    "plt.grid(True)\n",
    "plt.show()"
   ]
  },
  {
   "cell_type": "code",
   "execution_count": 3,
   "metadata": {
    "collapsed": false,
    "pycharm": {
     "name": "#%%\n"
    }
   },
   "outputs": [],
   "source": [
    "def eliminar_linha(lin, p, c, prt):\n",
    "  c = c.astype(float)\n",
    "  [N, M] = c.shape\n",
    "  if prt:\n",
    "    print(\"(L%d)=(L%d)-(%f)/(%f)*L(%d)\" % (lin, lin, c[lin, p], c[p, p], p))\n",
    "  m = c[lin, p] / c[p, p]\n",
    "  c[lin, p:M+1]=c[lin,p:M+1]-m*c[p,p:M+1]\n",
    "  return c, m\n",
    "\n",
    "def pivotar_coluna(p,l_ini,l_fim,c,prt):\n",
    "     [N,M]=c.shape\n",
    "     linhas = np.arange(l_ini,l_fim)\n",
    "     dist=np.argmax(abs(c[linhas,p]))\n",
    "     if dist!=0:  #troca linhas\n",
    "         c[[ p, (dist+p)],:] = c[[ (dist+p) , p ],:]\n",
    "         if prt:\n",
    "             print(\"Trocando linhas %d e %d\" % (p,dist+p))\n",
    "             pdtabulate=lambda c:tabulate(c,headers='keys')\n",
    "             print(pdtabulate(c))\n",
    "     return c, dist\n",
    "\n",
    "def substituicao_regressiva(a, b, prt):\n",
    "  [N,M]=a.shape\n",
    "  x = np.zeros(N)*np.nan\n",
    "  if a[N - 1, N - 1]!=0: x[N - 1]= b[N - 1] / a[N - 1, N - 1];\n",
    "  if prt:\n",
    "      print(\"Substituição regressiva\\nx(%d)=%f\" % (N-1,x[N-1]))\n",
    "  for lin in range(N-2,-1,-1):\n",
    "     if a[lin, lin]!=0:\n",
    "       x[lin]=(b[lin]-a[lin,lin+1:N] @ x[lin+1:N])/a[lin,lin]\n",
    "     if prt:\n",
    "         print(\"x(%d)=%f\" % (lin,x[lin]))\n",
    "  return x\n",
    "\n",
    "def substituicao_progressiva(a, b, prt):\n",
    "  [N,M] = a.shape\n",
    "  y = np.zeros(N)\n",
    "  y[0]=b[0]\n",
    "  if prt:\n",
    "      print(\"Substituição Progressiva\\ny(%d)=%f\" % (1,y(1)))\n",
    "  for lin in range(1,N):\n",
    "        y[lin]= b[lin]-a[lin,0:lin] @ y[0:lin]\n",
    "        if prt:\n",
    "            print(\"y(%d)=%f\" % (lin,y[lin]))\n",
    "  return y\n",
    "\n",
    "def eliminacao_gauss(a, b, prt, pivot): # com pivotamento\n",
    "   a = a.astype(float)\n",
    "   b = b.astype(float)\n",
    "   C = np.c_[a, b]\n",
    "   [N, M] = C.shape\n",
    "   x = np.zeros(N)\n",
    "   if prt:\n",
    "       print(\"Matriz Aumentada [C=A|b]\")\n",
    "       print(C)\n",
    "   for p in range(N-1):\n",
    "       if pivot:\n",
    "         (C,dist) = pivotar_coluna(p,p,N,C,prt)\n",
    "       elif C[p, p] == 0:\n",
    "          break\n",
    "       if prt:\n",
    "            print(\"Eliminando coluna %d com Pivô %f\" % (p,C[p,p]) )\n",
    "       for lin in range(p+1,N): #eliminação progressiva\n",
    "           (C,m) = eliminar_linha(lin,p,C,prt)\n",
    "       if prt:\n",
    "           print(C)\n",
    "   if C[p, p] != 0:\n",
    "         x = substituicao_regressiva(C[:,0:N],C[:,N],prt)\n",
    "   else:\n",
    "         print(\"Não há solução única pois matriz A é singular\")\n",
    "         x[1:N] = np.inf\n",
    "   return x\n",
    "\n",
    "def polinomio_vandermonde(x,y):\n",
    "   x = x. astype(np. float64)\n",
    "   y = y. astype(np. float64)\n",
    "   N = len(x)\n",
    "   A = np.zeros((N,N))\n",
    "   for k in range(N):\n",
    "      A[:,k] = x**k\n",
    "   coef=eliminacao_gauss(A,y,False,True)\n",
    "   pv = np.poly1d(coef[-1::-1])\n",
    "   return pv, A, coef\n",
    "\n",
    "def Trapezios_tab(x,y,prt,plot):\n",
    "   n=len(x)\n",
    "   h=x[1]-x[0] #espaçamento\n",
    "   w=np.ones(n)\n",
    "   w[1:-1]=2\n",
    "   S = y @ w\n",
    "   I=(h/2)*S\n",
    "   np.set_printoptions(precision=8)\n",
    "   if (prt):\n",
    "      print(\"[x y w y*w]\")\n",
    "      print(np.array([x,y,w,y*w]).transpose())\n",
    "      print(\"h=%f\\nsoma(y*w)=%f\\nI=(%f)/2*(%f)\\n\" % (h,S,h,S))\n",
    "      print(\"Integal por Trapézios %4d pontos = %f\\n\" % (n,I))\n",
    "   if (plot):\n",
    "      for i in range(0,n-1):\n",
    "         (pv,A,coef)= polinomio_vandermonde(x[i:i+2],y[i:i+2])\n",
    "         t = np.linspace(x[i],x[i+1],50);\n",
    "         plt.plot(t,pv(t))\n",
    "      plt.scatter(x,y)\n",
    "      plt.xlabel(\"Integral por Trapézios \" + str(n) + \" pontos=\" + \"{:.5f}\".format(I))\n",
    "      plt.grid(True)\n",
    "      plt.show()\n",
    "   return I\n",
    "\n",
    "def Trapezios(f,a,b,n,prt,plt1):\n",
    "   x = np.linspace(a,b,n)\n",
    "   y = f(x)\n",
    "   I=Trapezios_tab(x,y,prt,False)\n",
    "   if (plt1):\n",
    "      t = np.linspace(x[0],x[n-1],100);\n",
    "      plt.plot(t,f(t), color='red')\n",
    "      plt.scatter(x,y)\n",
    "      for i in range(0,n-1):\n",
    "         (pv,A,coef)= polinomio_vandermonde(x[i:i+2],y[i:i+2])\n",
    "         t = np.linspace(x[i],x[i+1],50);\n",
    "         plt.plot(t,pv(t), color='black')\n",
    "         plt.fill_between(t, pv(t), step=\"pre\", alpha=0.2)\n",
    "      (Ie,erro_e)=integrate.quad(f, a, b)\n",
    "      erro = np.abs((Ie-I)/Ie)\n",
    "      plt.xlabel(\"Integral por Trapézios \" + str(n) + \" pontos, erro=\" + \"{:.1e}\".format(erro))\n",
    "      plt.grid(True)\n",
    "      plt.show()\n",
    "   return I"
   ]
  },
  {
   "cell_type": "code",
   "execution_count": 4,
   "metadata": {
    "collapsed": false,
    "pycharm": {
     "name": "#%%\n"
    }
   },
   "outputs": [
    {
     "name": "stdout",
     "output_type": "stream",
     "text": [
      "[x y w y*w]\n",
      "[[0.         0.         1.         0.        ]\n",
      " [0.5        0.08243606 2.         0.16487213]\n",
      " [1.         0.27182818 2.         0.54365637]\n",
      " [1.5        0.67225336 2.         1.34450672]\n",
      " [2.         1.47781122 2.         2.95562244]\n",
      " [2.5        3.04562349 2.         6.09124698]\n",
      " [3.         6.02566108 1.         6.02566108]]\n",
      "h=0.500000\n",
      "soma(y*w)=17.125566\n",
      "I=(0.500000)/2*(17.125566)\n",
      "\n",
      "Integal por Trapézios    7 pontos = 4.281391\n",
      "\n"
     ]
    },
    {
     "data": {
      "image/png": "[encoded data removed]",
      "text/plain": [
       "<Figure size 432x288 with 1 Axes>"
      ]
     },
     "metadata": {
      "needs_background": "light"
     },
     "output_type": "display_data"
    }
   ],
   "source": [
    "I = Trapezios(func, 0, 3, 7, True, True)"
   ]
  },
  {
   "cell_type": "markdown",
   "metadata": {},
   "source": [
    "Métodos númericos pode ser usado para integrar funções definidas, tanto na forma analítica quanto na forma tabular"
   ]
  },
  {
   "cell_type": "code",
   "execution_count": 5,
   "metadata": {},
   "outputs": [
    {
     "data": {
      "image/png": "[encoded data removed]",
      "text/plain": [
       "<Figure size 432x288 with 1 Axes>"
      ]
     },
     "metadata": {
      "needs_background": "light"
     },
     "output_type": "display_data"
    }
   ],
   "source": [
    "def func(x): return (x/10) * (np.exp(x))\n",
    "x = np.linspace(0, 3, 7)\n",
    "y = func(x)\n",
    "plt.plot(x, y, color='green')\n",
    "plt.grid(True)\n",
    "plt.show()"
   ]
  },
  {
   "cell_type": "code",
   "execution_count": 6,
   "metadata": {},
   "outputs": [
    {
     "name": "stdout",
     "output_type": "stream",
     "text": [
      "[x y w y*w]\n",
      "[[0.         0.         1.         0.        ]\n",
      " [0.5        0.08243606 2.         0.16487213]\n",
      " [1.         0.27182818 2.         0.54365637]\n",
      " [1.5        0.67225336 2.         1.34450672]\n",
      " [2.         1.47781122 2.         2.95562244]\n",
      " [2.5        3.04562349 2.         6.09124698]\n",
      " [3.         6.02566108 1.         6.02566108]]\n",
      "h=0.500000\n",
      "soma(y*w)=17.125566\n",
      "I=(0.500000)/2*(17.125566)\n",
      "\n",
      "Integal por Trapézios    7 pontos = 4.281391\n",
      "\n"
     ]
    },
    {
     "data": {
      "image/png": "[encoded data removed]",
      "text/plain": [
       "<Figure size 432x288 with 1 Axes>"
      ]
     },
     "metadata": {
      "needs_background": "light"
     },
     "output_type": "display_data"
    }
   ],
   "source": [
    "I = Trapezios(func, 0, 3, 7, True, True)"
   ]
  }
 ],
 "metadata": {
  "kernelspec": {
   "display_name": "Python 3.10.4 64-bit",
   "language": "python",
   "name": "python3"
  },
  "language_info": {
   "codemirror_mode": {
    "name": "ipython",
    "version": 3
   },
   "file_extension": ".py",
   "mimetype": "text/x-python",
   "name": "python",
   "nbconvert_exporter": "python",
   "pygments_lexer": "ipython3",
   "version": "3.10.4"
  },
  "orig_nbformat": 4,
  "vscode": {
   "interpreter": {
    "hash": "916dbcbb3f70747c44a77c7bcd40155683ae19c65e1c03b4aa3499c5328201f1"
   }
  }
 },
 "nbformat": 4,
 "nbformat_minor": 2
}
