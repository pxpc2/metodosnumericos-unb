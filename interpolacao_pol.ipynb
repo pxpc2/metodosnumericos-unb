{
 "cells": [
  {
   "cell_type": "code",
   "execution_count": 1,
   "metadata": {
    "collapsed": true,
    "pycharm": {
     "name": "#%%\n"
    }
   },
   "outputs": [],
   "source": [
    "import numpy as np\n",
    "import matplotlib as plt\n",
    "from tabulate import tabulate"
   ]
  },
  {
   "cell_type": "markdown",
   "source": [
    "Exemplo: dado que temos conhecimento da fç f(x) tq\n",
    "f(3.0) = 5.0\n",
    "f(6.0) = 8.7\n",
    "Vamos ajustar um polinomio p(x) que passa por esses dois pontos, nos permitindo aproximar uma função de solução p/ achar outros pontos (x = 5.0 por ex)\n",
    "\n",
    "p(x) = a0 + a1x\n",
    "a0 + 3(a1) = 5\n",
    "a0 + 6(a1) = 8.7"
   ],
   "metadata": {
    "collapsed": false,
    "pycharm": {
     "name": "#%% md\n"
    }
   }
  },
  {
   "cell_type": "code",
   "execution_count": 2,
   "outputs": [
    {
     "data": {
      "text/plain": "array([1.3       , 1.23333333])"
     },
     "execution_count": 2,
     "metadata": {},
     "output_type": "execute_result"
    }
   ],
   "source": [
    "A = np.array([[1, 3], [1, 6]])\n",
    "b = np.array([5, 8.7])\n",
    "# c = Ai @ b\n",
    "c = np.linalg.inv(A) @ b\n",
    "c"
   ],
   "metadata": {
    "collapsed": false,
    "pycharm": {
     "name": "#%%\n"
    }
   }
  },
  {
   "cell_type": "markdown",
   "source": [
    "Dado o output, temos que p(x) = 1.3 + 1.234x\n",
    "Logo, p(5.0) = 1.3 + 1.234 * 5 = 7.47 aprox"
   ],
   "metadata": {
    "collapsed": false,
    "pycharm": {
     "name": "#%% md\n"
    }
   }
  },
  {
   "cell_type": "markdown",
   "source": [
    "#### Polinômio de Vandermonde\n",
    "##### se tivermos N pontos de controle de uma fç f(x), então há um único polinômio P(x) de grau N-1 que passa por todos os pontos em (x, f(x)) t.q\n",
    "#### P(x) = a0 + a1x + a2x² + ... + an-1(x^(n-1))"
   ],
   "metadata": {
    "collapsed": false,
    "pycharm": {
     "name": "#%% md\n"
    }
   }
  },
  {
   "cell_type": "code",
   "execution_count": 3,
   "outputs": [],
   "source": [
    "def eliminar_linha(lin, p, c, prt):\n",
    "  c = c.astype(float)\n",
    "  [N, M] = c.shape\n",
    "  if prt:\n",
    "    print(\"(L%d)=(L%d)-(%f)/(%f)*L(%d)\" % (lin, lin, c[lin, p], c[p, p], p))\n",
    "  m = c[lin, p] / c[p, p]\n",
    "  c[lin, p:M+1]=c[lin,p:M+1]-m*c[p,p:M+1]\n",
    "  return c, m\n",
    "\n",
    "def pivotar_coluna(p,l_ini,l_fim,c,prt):\n",
    "     [N,M]=c.shape\n",
    "     linhas = np.arange(l_ini,l_fim)\n",
    "     dist=np.argmax(abs(c[linhas,p]))\n",
    "     if dist!=0:  #troca linhas\n",
    "         c[[ p, (dist+p)],:] = c[[ (dist+p) , p ],:]\n",
    "         if prt:\n",
    "             print(\"Trocando linhas %d e %d\" % (p,dist+p))\n",
    "             pdtabulate=lambda c:tabulate(c,headers='keys')\n",
    "             print(pdtabulate(c))\n",
    "     return c, dist\n",
    "\n",
    "def substituicao_regressiva(a, b, prt):\n",
    "  [N,M]=a.shape\n",
    "  x = np.zeros(N)*np.nan\n",
    "  if a[N - 1, N - 1]!=0: x[N - 1]= b[N - 1] / a[N - 1, N - 1];\n",
    "  if prt:\n",
    "      print(\"Substituição regressiva\\nx(%d)=%f\" % (N-1,x[N-1]))\n",
    "  for lin in range(N-2,-1,-1):\n",
    "     if a[lin, lin]!=0:\n",
    "       x[lin]=(b[lin]-a[lin,lin+1:N] @ x[lin+1:N])/a[lin,lin]\n",
    "     if prt:\n",
    "         print(\"x(%d)=%f\" % (lin,x[lin]))\n",
    "  return x\n",
    "\n",
    "def substituicao_progressiva(a, b, prt):\n",
    "  [N,M] = a.shape\n",
    "  y = np.zeros(N)\n",
    "  y[0]=b[0]\n",
    "  if prt:\n",
    "      print(\"Substituição Progressiva\\ny(%d)=%f\" % (1,y(1)))\n",
    "  for lin in range(1,N):\n",
    "        y[lin]= b[lin]-a[lin,0:lin] @ y[0:lin]\n",
    "        if prt:\n",
    "            print(\"y(%d)=%f\" % (lin,y[lin]))\n",
    "  return y\n",
    "\n",
    "def eliminacao_gauss(a, b, prt, pivot): # com pivotamento\n",
    "   a = a.astype(float)\n",
    "   b = b.astype(float)\n",
    "   C = np.c_[a, b]\n",
    "   [N, M] = C.shape\n",
    "   x = np.zeros(N)\n",
    "   if prt:\n",
    "       print(\"Matriz Aumentada [C=A|b]\")\n",
    "       print(C)\n",
    "   for p in range(N-1):\n",
    "       if pivot:\n",
    "         (C,dist) = pivotar_coluna(p,p,N,C,prt)\n",
    "       elif C[p, p] == 0:\n",
    "          break\n",
    "       if prt:\n",
    "            print(\"Eliminando coluna %d com Pivô %f\" % (p,C[p,p]) )\n",
    "       for lin in range(p+1,N): #eliminação progressiva\n",
    "           (C,m) = eliminar_linha(lin,p,C,prt)\n",
    "       if prt:\n",
    "           print(C)\n",
    "   if C[p, p] != 0:\n",
    "         x = substituicao_regressiva(C[:,0:N],C[:,N],prt)\n",
    "   else:\n",
    "         print(\"Não há solução única pois matriz A é singular\")\n",
    "         x[1:N] = np.inf\n",
    "   return x"
   ],
   "metadata": {
    "collapsed": false,
    "pycharm": {
     "name": "#%%\n"
    }
   }
  },
  {
   "cell_type": "code",
   "execution_count": 4,
   "outputs": [],
   "source": [
    "def polinomio_vandermonde(x,y):\n",
    "   x = x. astype(np. float64)\n",
    "   y = y. astype(np. float64)\n",
    "   N = len(x)\n",
    "   A = np.zeros((N,N))\n",
    "   for k in range(N):\n",
    "      A[:,k] = x**k\n",
    "   coef=eliminacao_gauss(A,y,False,True)\n",
    "   pv = np.poly1d(coef[-1::-1])\n",
    "   return pv, A, coef"
   ],
   "metadata": {
    "collapsed": false,
    "pycharm": {
     "name": "#%%\n"
    }
   }
  },
  {
   "cell_type": "code",
   "execution_count": 14,
   "outputs": [
    {
     "name": "stdout",
     "output_type": "stream",
     "text": [
      " \n",
      "1.233 x + 1.3\n"
     ]
    }
   ],
   "source": [
    "x = np.array([3.0, 6.0])\n",
    "y = np.array([5.0, 8.7])\n",
    "pv, A, c = polinomio_vandermonde(x, y)\n",
    "print(pv)"
   ],
   "metadata": {
    "collapsed": false,
    "pycharm": {
     "name": "#%%\n"
    }
   }
  },
  {
   "cell_type": "code",
   "execution_count": 15,
   "outputs": [],
   "source": [
    "def  polinomio_newton(x, y):\n",
    "    x = x.astype(np.double)\n",
    "    y = y.astype(np.double)\n",
    "    N=len(x)\n",
    "    D=np.zeros([N,N])\n",
    "    D[:,0]=y\n",
    "    for j in range (1,N):\n",
    "        for k in range (j,N):\n",
    "            D[k,j]=(D[k,j-1]-D[k-1,j-1])/(x[k]-x[k-j])\n",
    "    coef = np.diag(D)\n",
    "    return coef, D"
   ],
   "metadata": {
    "collapsed": false,
    "pycharm": {
     "name": "#%%\n"
    }
   }
  },
  {
   "cell_type": "code",
   "execution_count": 18,
   "outputs": [
    {
     "name": "stdout",
     "output_type": "stream",
     "text": [
      "[5.         1.23333333]\n"
     ]
    }
   ],
   "source": [
    "x = np.array([3.0, 6.0])\n",
    "y = np.array([5.0, 8.7])\n",
    "c, d = polinomio_newton(x, y)\n",
    "print(c)"
   ],
   "metadata": {
    "collapsed": false,
    "pycharm": {
     "name": "#%%\n"
    }
   }
  },
  {
   "cell_type": "code",
   "execution_count": null,
   "outputs": [],
   "source": [],
   "metadata": {
    "collapsed": false,
    "pycharm": {
     "name": "#%%\n"
    }
   }
  }
 ],
 "metadata": {
  "kernelspec": {
   "display_name": "Python 3",
   "language": "python",
   "name": "python3"
  },
  "language_info": {
   "codemirror_mode": {
    "name": "ipython",
    "version": 2
   },
   "file_extension": ".py",
   "mimetype": "text/x-python",
   "name": "python",
   "nbconvert_exporter": "python",
   "pygments_lexer": "ipython2",
   "version": "2.7.6"
  }
 },
 "nbformat": 4,
 "nbformat_minor": 0
}