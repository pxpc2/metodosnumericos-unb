{
 "cells": [
  {
   "cell_type": "code",
   "execution_count": 62,
   "metadata": {
    "collapsed": true,
    "pycharm": {
     "name": "#%%\n"
    }
   },
   "outputs": [],
   "source": [
    "import numpy as np\n",
    "import matplotlib as plt\n",
    "from tabulate import tabulate"
   ]
  },
  {
   "cell_type": "markdown",
   "source": [
    "### Resolver o sistema:\n",
    "\n",
    " 2x + y + 3z = 4\n",
    "\n",
    " -1x + 3y + 2z = 3\n",
    "\n",
    " 3x + y - 3z = 2"
   ],
   "metadata": {
    "collapsed": false,
    "pycharm": {
     "name": "#%% md\n"
    }
   }
  },
  {
   "cell_type": "code",
   "execution_count": 63,
   "outputs": [
    {
     "data": {
      "text/plain": "array([0.81632653, 0.95918367, 0.46938776])"
     },
     "execution_count": 63,
     "metadata": {},
     "output_type": "execute_result"
    }
   ],
   "source": [
    "A = np.array([[2, 1, 3], [-1, 3, 2], [3, 1, -3]])\n",
    "ba = np.array([4, 3, 2])\n",
    "Ai = np.linalg.inv(A)\n",
    "r = Ai @ ba\n",
    "r"
   ],
   "metadata": {
    "collapsed": false,
    "pycharm": {
     "name": "#%%\n"
    }
   }
  },
  {
   "cell_type": "code",
   "execution_count": 64,
   "outputs": [],
   "source": [
    "def cofat(m):\n",
    "    n = len(m)\n",
    "    cof = np.zeros((n, n))\n",
    "    for col in range(n):\n",
    "        for lin in range(n):\n",
    "            d_ij = np.delete(m, lin, 0)\n",
    "            d_ij = np.delete(d_ij, col, 1)\n",
    "            det = np.linalg.det(d_ij)\n",
    "            cof[lin][col] = (-1) ** (lin + col) * det\n",
    "    return cof\n",
    "\n",
    "\n",
    "def adjuta(m):\n",
    "    return cofat(m).transpose()\n",
    "\n",
    "\n",
    "def inv_cofat(m):\n",
    "    return (1 / np.linalg.det(m)) * adjuta(m)"
   ],
   "metadata": {
    "collapsed": false,
    "pycharm": {
     "name": "#%%\n"
    }
   }
  },
  {
   "cell_type": "code",
   "execution_count": 65,
   "outputs": [
    {
     "name": "stdout",
     "output_type": "stream",
     "text": [
      "Ai com linalg:\n",
      " [[ 0.2244898  -0.12244898  0.14285714]\n",
      " [-0.06122449  0.30612245  0.14285714]\n",
      " [ 0.20408163 -0.02040816 -0.14285714]] \n",
      "Ai com inv_cofat:\n",
      " [[ 0.2244898  -0.12244898  0.14285714]\n",
      " [-0.06122449  0.30612245  0.14285714]\n",
      " [ 0.20408163 -0.02040816 -0.14285714]]\n"
     ]
    }
   ],
   "source": [
    "A = np.array([[2, 1, 3], [-1, 3, 2], [3, 1, -3]])\n",
    "Ai1 = np.linalg.inv(A)\n",
    "Ai2 = inv_cofat(A)\n",
    "print(\"Ai com linalg:\\n\", Ai1, \"\\nAi com inv_cofat:\\n\", Ai2)"
   ],
   "metadata": {
    "collapsed": false,
    "pycharm": {
     "name": "#%%\n"
    }
   }
  },
  {
   "cell_type": "code",
   "execution_count": 66,
   "outputs": [
    {
     "name": "stdout",
     "output_type": "stream",
     "text": [
      "[0.81632653 0.95918367 0.46938776]  =  [0.81632653 0.95918367 0.46938776]\n"
     ]
    }
   ],
   "source": [
    "A = np.array([[2, 1, 3], [-1, 3, 2], [3, 1, -3]])\n",
    "ba = np.array(([4, 3, 2]))\n",
    "x1 = np.linalg.solve(A, ba)\n",
    "x2 = inv_cofat(A) @ ba\n",
    "print(x1, \" = \", x2)"
   ],
   "metadata": {
    "collapsed": false,
    "pycharm": {
     "name": "#%%\n"
    }
   }
  },
  {
   "cell_type": "code",
   "execution_count": 67,
   "outputs": [],
   "source": [
    "def det_cofat(M):\n",
    "    n = len(M)\n",
    "    if n == 1:\n",
    "        return M\n",
    "    cof = np.zeros(n)\n",
    "    for col in range(n):\n",
    "        d = np.delete(M, 0, 0)\n",
    "        d = np.delete(d, col, 1)\n",
    "        cof[col] = ((-1) ** col) * det_cofat(d)\n",
    "    return M[0, :] @ cof"
   ],
   "metadata": {
    "collapsed": false,
    "pycharm": {
     "name": "#%%\n"
    }
   }
  },
  {
   "cell_type": "code",
   "execution_count": 68,
   "outputs": [
    {
     "data": {
      "text/plain": "(-49.000000000000014, -49.0)"
     },
     "execution_count": 68,
     "metadata": {},
     "output_type": "execute_result"
    }
   ],
   "source": [
    "np.linalg.det(A), det_cofat(A)"
   ],
   "metadata": {
    "collapsed": false,
    "pycharm": {
     "name": "#%%\n"
    }
   }
  },
  {
   "cell_type": "code",
   "execution_count": 69,
   "outputs": [],
   "source": [
    "def cramer(M, B, prt):\n",
    "    n = len(M)\n",
    "    c = np.c_[M, B]\n",
    "    d = det_cofat(M)\n",
    "    x = np.zeros(n)\n",
    "    if prt:\n",
    "        print(\"Matriz aumentada [C=A|b] det(A) = %f\" % d)\n",
    "        print(c)\n",
    "    for k in range(0, n):\n",
    "        ak = M.copy()\n",
    "        ak[:, k] = B\n",
    "        dk = det_cofat(ak)\n",
    "        x[k] = dk/d\n",
    "        if prt:\n",
    "            print(\"Matriz A%d    det(A%1d) = %f\" % (k, k, dk))\n",
    "            print(ak)\n",
    "            print(\"x(%d) = %f / %f = %f\\n\" % (k, dk, d, x[k]))\n",
    "    return x"
   ],
   "metadata": {
    "collapsed": false,
    "pycharm": {
     "name": "#%%\n"
    }
   }
  },
  {
   "cell_type": "code",
   "execution_count": 70,
   "outputs": [
    {
     "data": {
      "text/plain": "array([0.81632653, 0.95918367, 0.46938776])"
     },
     "execution_count": 70,
     "metadata": {},
     "output_type": "execute_result"
    }
   ],
   "source": [
    "inv_cofat(A)@ba"
   ],
   "metadata": {
    "collapsed": false,
    "pycharm": {
     "name": "#%%\n"
    }
   }
  },
  {
   "cell_type": "code",
   "execution_count": 71,
   "outputs": [
    {
     "name": "stdout",
     "output_type": "stream",
     "text": [
      "Matriz aumentada [C=A|b] det(A) = -49.000000\n",
      "[[ 2  1  3  4]\n",
      " [-1  3  2  3]\n",
      " [ 3  1 -3  2]]\n",
      "Matriz A0    det(A0) = -40.000000\n",
      "[[ 4  1  3]\n",
      " [ 3  3  2]\n",
      " [ 2  1 -3]]\n",
      "x(0) = -40.000000 / -49.000000 = 0.816327\n",
      "\n",
      "Matriz A1    det(A1) = -47.000000\n",
      "[[ 2  4  3]\n",
      " [-1  3  2]\n",
      " [ 3  2 -3]]\n",
      "x(1) = -47.000000 / -49.000000 = 0.959184\n",
      "\n",
      "Matriz A2    det(A2) = -23.000000\n",
      "[[ 2  1  4]\n",
      " [-1  3  3]\n",
      " [ 3  1  2]]\n",
      "x(2) = -23.000000 / -49.000000 = 0.469388\n",
      "\n"
     ]
    },
    {
     "data": {
      "text/plain": "array([0.81632653, 0.95918367, 0.46938776])"
     },
     "execution_count": 71,
     "metadata": {},
     "output_type": "execute_result"
    }
   ],
   "source": [
    "cramer(A, ba, True)"
   ],
   "metadata": {
    "collapsed": false,
    "pycharm": {
     "name": "#%%\n"
    }
   }
  },
  {
   "cell_type": "code",
   "execution_count": 72,
   "outputs": [],
   "source": [
    "def eliminar_linha(lin, p, c, prt):\n",
    "  c = c.astype(float)\n",
    "  [N, M] = c.shape\n",
    "  if prt:\n",
    "    print(\"(L%d)=(L%d)-(%f)/(%f)*L(%d)\" % (lin, lin, c[lin, p], c[p, p], p))\n",
    "  m = c[lin, p] / c[p, p]\n",
    "  c[lin, p:M+1]=c[lin,p:M+1]-m*c[p,p:M+1]\n",
    "  return c, m\n",
    "\n",
    "def pivotar_coluna(p,l_ini,l_fim,c,prt):\n",
    "     [N,M]=c.shape\n",
    "     linhas = np.arange(l_ini,l_fim)\n",
    "     dist=np.argmax(abs(c[linhas,p]))\n",
    "     if dist!=0:  #troca linhas\n",
    "         c[[ p, (dist+p)],:] = c[[ (dist+p) , p ],:]\n",
    "         if prt:\n",
    "             print(\"Trocando linhas %d e %d\" % (p,dist+p))\n",
    "             pdtabulate=lambda c:tabulate(c,headers='keys')\n",
    "             print(pdtabulate(c))\n",
    "     return c, dist\n",
    "\n",
    "def substituicao_regressiva(a, b, prt):\n",
    "  [N,M]=a.shape\n",
    "  x = np.zeros(N)*np.nan\n",
    "  if a[N - 1, N - 1]!=0: x[N - 1]= b[N - 1] / a[N - 1, N - 1];\n",
    "  if prt:\n",
    "      print(\"Substituição regressiva\\nx(%d)=%f\" % (N-1,x[N-1]))\n",
    "  for lin in range(N-2,-1,-1):\n",
    "     if a[lin, lin]!=0:\n",
    "       x[lin]=(b[lin]-a[lin,lin+1:N] @ x[lin+1:N])/a[lin,lin]\n",
    "     if prt:\n",
    "         print(\"x(%d)=%f\" % (lin,x[lin]))\n",
    "  return x\n",
    "\n",
    "def substituicao_progressiva(a, b, prt):\n",
    "  [N,M] = a.shape\n",
    "  y = np.zeros(N)\n",
    "  y[0]=b[0]\n",
    "  if prt:\n",
    "      print(\"Substituição Progressiva\\ny(%d)=%f\" % (1,y(1)))\n",
    "  for lin in range(1,N):\n",
    "        y[lin]= b[lin]-a[lin,0:lin] @ y[0:lin]\n",
    "        if prt:\n",
    "            print(\"y(%d)=%f\" % (lin,y[lin]))\n",
    "  return y"
   ],
   "metadata": {
    "collapsed": false,
    "pycharm": {
     "name": "#%%\n"
    }
   }
  },
  {
   "cell_type": "code",
   "execution_count": 73,
   "outputs": [],
   "source": [
    "def eliminacao_gauss(a, b, prt, pivot): # com pivotamento\n",
    "   a = a.astype(float)\n",
    "   b = b.astype(float)\n",
    "   C = np.c_[a, b]\n",
    "   [N, M] = C.shape\n",
    "   x = np.zeros(N)\n",
    "   if prt:\n",
    "       print(\"Matriz Aumentada [C=A|b]\")\n",
    "       print(C)\n",
    "   for p in range(N-1):\n",
    "       if pivot:\n",
    "         (C,dist) = pivotar_coluna(p,p,N,C,prt)\n",
    "       elif C[p, p] == 0:\n",
    "          break\n",
    "       if prt:\n",
    "            print(\"Eliminando coluna %d com Pivô %f\" % (p,C[p,p]) )\n",
    "       for lin in range(p+1,N): #eliminação progressiva\n",
    "           (C,m) = eliminar_linha(lin,p,C,prt)\n",
    "       if prt:\n",
    "           print(C)\n",
    "   if C[p, p] != 0:\n",
    "         x = substituicao_regressiva(C[:,0:N],C[:,N],prt)\n",
    "   else:\n",
    "         print(\"Não há solução única pois matriz A é singular\")\n",
    "         x[1:N] = np.inf\n",
    "   return x"
   ],
   "metadata": {
    "collapsed": false,
    "pycharm": {
     "name": "#%%\n"
    }
   }
  },
  {
   "cell_type": "code",
   "execution_count": 74,
   "outputs": [
    {
     "data": {
      "text/plain": "(array([[ 2,  1,  3],\n        [-1,  3,  2],\n        [ 3,  1, -3]]),\n array([4, 3, 2]))"
     },
     "execution_count": 74,
     "metadata": {},
     "output_type": "execute_result"
    }
   ],
   "source": [
    "A, ba"
   ],
   "metadata": {
    "collapsed": false,
    "pycharm": {
     "name": "#%%\n"
    }
   }
  },
  {
   "cell_type": "code",
   "execution_count": 75,
   "outputs": [
    {
     "name": "stdout",
     "output_type": "stream",
     "text": [
      "Matriz Aumentada [C=A|b]\n",
      "[[ 2.  1.  3.  4.]\n",
      " [-1.  3.  2.  3.]\n",
      " [ 3.  1. -3.  2.]]\n",
      "Eliminando coluna 0 com Pivô 2.000000\n",
      "(L1)=(L1)-(-1.000000)/(2.000000)*L(0)\n",
      "(L2)=(L2)-(3.000000)/(2.000000)*L(0)\n",
      "[[ 2.   1.   3.   4. ]\n",
      " [ 0.   3.5  3.5  5. ]\n",
      " [ 0.  -0.5 -7.5 -4. ]]\n",
      "Eliminando coluna 1 com Pivô 3.500000\n",
      "(L2)=(L2)-(-0.500000)/(3.500000)*L(1)\n",
      "[[ 2.          1.          3.          4.        ]\n",
      " [ 0.          3.5         3.5         5.        ]\n",
      " [ 0.          0.         -7.         -3.28571429]]\n",
      "Substituição regressiva\n",
      "x(2)=0.469388\n",
      "x(1)=0.959184\n",
      "x(0)=0.816327\n"
     ]
    },
    {
     "data": {
      "text/plain": "array([0.81632653, 0.95918367, 0.46938776])"
     },
     "execution_count": 75,
     "metadata": {},
     "output_type": "execute_result"
    }
   ],
   "source": [
    "eliminacao_gauss(A, ba, True, False)"
   ],
   "metadata": {
    "collapsed": false,
    "pycharm": {
     "name": "#%%\n"
    }
   }
  },
  {
   "cell_type": "markdown",
   "source": [
    "##### Pivoteamento consiste em trocar as linhas de modo que o elemento pivot (diag. principal) seja sempre o maior da coluna. Resulta em menor propagação de erros de arredondamento."
   ],
   "metadata": {
    "collapsed": false,
    "pycharm": {
     "name": "#%% md\n"
    }
   }
  },
  {
   "cell_type": "code",
   "execution_count": 76,
   "outputs": [
    {
     "name": "stdout",
     "output_type": "stream",
     "text": [
      "Matriz Aumentada [C=A|b]\n",
      "[[ 2.  1.  3.  4.]\n",
      " [-1.  3.  2.  3.]\n",
      " [ 3.  1. -3.  2.]]\n",
      "Trocando linhas 0 e 2\n",
      "  0    1    2    3\n",
      "---  ---  ---  ---\n",
      "  3    1   -3    2\n",
      " -1    3    2    3\n",
      "  2    1    3    4\n",
      "Eliminando coluna 0 com Pivô 3.000000\n",
      "(L1)=(L1)-(-1.000000)/(3.000000)*L(0)\n",
      "(L2)=(L2)-(2.000000)/(3.000000)*L(0)\n",
      "[[ 3.          1.         -3.          2.        ]\n",
      " [ 0.          3.33333333  1.          3.66666667]\n",
      " [ 0.          0.33333333  5.          2.66666667]]\n",
      "Eliminando coluna 1 com Pivô 3.333333\n",
      "(L2)=(L2)-(0.333333)/(3.333333)*L(1)\n",
      "[[ 3.          1.         -3.          2.        ]\n",
      " [ 0.          3.33333333  1.          3.66666667]\n",
      " [ 0.          0.          4.9         2.3       ]]\n",
      "Substituição regressiva\n",
      "x(2)=0.469388\n",
      "x(1)=0.959184\n",
      "x(0)=0.816327\n"
     ]
    },
    {
     "data": {
      "text/plain": "array([0.81632653, 0.95918367, 0.46938776])"
     },
     "execution_count": 76,
     "metadata": {},
     "output_type": "execute_result"
    }
   ],
   "source": [
    "eliminacao_gauss(A, ba, True, True)"
   ],
   "metadata": {
    "collapsed": false,
    "pycharm": {
     "name": "#%%\n"
    }
   }
  },
  {
   "cell_type": "markdown",
   "source": [
    "#### def: o determinante de uma matriz triangular superior é o produto dos elementos de sua diagonal principal\n",
    "\n",
    "#### podemos então calcular o determinante através da Eliminação Progressiva de Gauss, que transforma a matriz A em uma matriz triangular superior."
   ],
   "metadata": {
    "collapsed": false,
    "pycharm": {
     "name": "#%% md\n"
    }
   }
  },
  {
   "cell_type": "code",
   "execution_count": 77,
   "outputs": [],
   "source": [
    "def det_gauss(a, prt):\n",
    "    a = a.astype(float)\n",
    "    [N, M] = a.shape\n",
    "    if prt:\n",
    "        print(\"Matriz A\", A)\n",
    "    n_pivot = 0\n",
    "    for p in range(N-1):\n",
    "        (a, dist) = pivotar_coluna(p, p, N, a, prt)\n",
    "        if dist > 0:\n",
    "            n_pivot += 1\n",
    "        elif a[p, p] == 0:\n",
    "            break\n",
    "        if prt:\n",
    "            print(\"Eliminando coluna %d com pivot %f\\n\" % (p, a[p, p]))\n",
    "        for lin in range(p+1, N):\n",
    "            (a, m) = eliminar_linha(lin, p, a, prt)\n",
    "        if prt:\n",
    "            print(a)\n",
    "    d = np.prod(np.diag(a) * (-1)**n_pivot)\n",
    "    return d"
   ],
   "metadata": {
    "collapsed": false,
    "pycharm": {
     "name": "#%%\n"
    }
   }
  },
  {
   "cell_type": "code",
   "execution_count": 78,
   "outputs": [
    {
     "name": "stdout",
     "output_type": "stream",
     "text": [
      "Matriz A [[ 2  1  3]\n",
      " [-1  3  2]\n",
      " [ 3  1 -3]]\n",
      "Trocando linhas 0 e 2\n",
      "  0    1    2\n",
      "---  ---  ---\n",
      "  3    1   -3\n",
      " -1    3    2\n",
      "  2    1    3\n",
      "Eliminando coluna 0 com pivot 3.000000\n",
      "\n",
      "(L1)=(L1)-(-1.000000)/(3.000000)*L(0)\n",
      "(L2)=(L2)-(2.000000)/(3.000000)*L(0)\n",
      "[[ 3.          1.         -3.        ]\n",
      " [ 0.          3.33333333  1.        ]\n",
      " [ 0.          0.33333333  5.        ]]\n",
      "Eliminando coluna 1 com pivot 3.333333\n",
      "\n",
      "(L2)=(L2)-(0.333333)/(3.333333)*L(1)\n",
      "[[ 3.          1.         -3.        ]\n",
      " [ 0.          3.33333333  1.        ]\n",
      " [ 0.          0.          4.9       ]]\n"
     ]
    },
    {
     "data": {
      "text/plain": "(-49.0, -49.0)"
     },
     "execution_count": 78,
     "metadata": {},
     "output_type": "execute_result"
    }
   ],
   "source": [
    "det_gauss(A, True), det_cofat(A)"
   ],
   "metadata": {
    "collapsed": false,
    "pycharm": {
     "name": "#%%\n"
    }
   }
  },
  {
   "cell_type": "markdown",
   "source": [
    "### Gauss-Jordan"
   ],
   "metadata": {
    "collapsed": false,
    "pycharm": {
     "name": "#%% md\n"
    }
   }
  },
  {
   "cell_type": "code",
   "execution_count": 79,
   "outputs": [],
   "source": [
    "def eliminacao_gaussjordan(a, b, prt):\n",
    "   a = a.astype(float)\n",
    "   b = b.astype(float)\n",
    "   C = np.c_[a, b]\n",
    "   [N, M] = C.shape\n",
    "   x = np.zeros(N)\n",
    "   if prt:\n",
    "       print(\"Matriz Aumentada [C=A|b]\")\n",
    "       print(C)\n",
    "   for p in range(N):\n",
    "       (C, dist) = pivotar_coluna(p,p,N,C,prt)\n",
    "       C[p, :] = C[p, :] / C[p, p]\n",
    "       if prt:\n",
    "            print(\"Eliminando coluna %d com Pivô %f\" % (p,C[p,p]) )\n",
    "       linhas = np.concatenate((np.arange(0, p), np.arange(p+1, N)))\n",
    "       for lin in linhas:\n",
    "           (C, m) = eliminar_linha(lin,p,C,prt)\n",
    "       if prt:\n",
    "           print(C)\n",
    "   if C[p, p] != 0:\n",
    "         x = C[:, N]\n",
    "   else:\n",
    "         print(\"Não há solução única pois matriz A é singular\")\n",
    "         x[1:N] = np.inf\n",
    "   return x"
   ],
   "metadata": {
    "collapsed": false,
    "pycharm": {
     "name": "#%%\n"
    }
   }
  },
  {
   "cell_type": "code",
   "execution_count": 80,
   "outputs": [
    {
     "name": "stdout",
     "output_type": "stream",
     "text": [
      "Matriz Aumentada [C=A|b]\n",
      "[[ 2.  1.  3.  4.]\n",
      " [-1.  3.  2.  3.]\n",
      " [ 3.  1. -3.  2.]]\n",
      "Trocando linhas 0 e 2\n",
      "  0    1    2    3\n",
      "---  ---  ---  ---\n",
      "  3    1   -3    2\n",
      " -1    3    2    3\n",
      "  2    1    3    4\n",
      "Eliminando coluna 0 com Pivô 1.000000\n",
      "(L1)=(L1)-(-1.000000)/(1.000000)*L(0)\n",
      "(L2)=(L2)-(2.000000)/(1.000000)*L(0)\n",
      "[[ 1.          0.33333333 -1.          0.66666667]\n",
      " [ 0.          3.33333333  1.          3.66666667]\n",
      " [ 0.          0.33333333  5.          2.66666667]]\n",
      "Eliminando coluna 1 com Pivô 1.000000\n",
      "(L0)=(L0)-(0.333333)/(1.000000)*L(1)\n",
      "(L2)=(L2)-(0.333333)/(1.000000)*L(1)\n",
      "[[ 1.   0.  -1.1  0.3]\n",
      " [ 0.   1.   0.3  1.1]\n",
      " [ 0.   0.   4.9  2.3]]\n",
      "Eliminando coluna 2 com Pivô 1.000000\n",
      "(L0)=(L0)-(-1.100000)/(1.000000)*L(2)\n",
      "(L1)=(L1)-(0.300000)/(1.000000)*L(2)\n",
      "[[1.         0.         0.         0.81632653]\n",
      " [0.         1.         0.         0.95918367]\n",
      " [0.         0.         1.         0.46938776]]\n"
     ]
    },
    {
     "data": {
      "text/plain": "array([0.81632653, 0.95918367, 0.46938776])"
     },
     "execution_count": 80,
     "metadata": {},
     "output_type": "execute_result"
    }
   ],
   "source": [
    "eliminacao_gaussjordan(A, ba, True)"
   ],
   "metadata": {
    "collapsed": false,
    "pycharm": {
     "name": "#%%\n"
    }
   }
  },
  {
   "cell_type": "markdown",
   "source": [
    "##### Para calcular matriz inversa por Gauss-Jordan, primeiro criamos a matriz aumentada com A na esquerda e Identidade (I) na direita, e manipulamos (eliminacao gauss) tal matriz até termos I na esquerda, e por consequencia, A^-1 na direita."
   ],
   "metadata": {
    "collapsed": false,
    "pycharm": {
     "name": "#%% md\n"
    }
   }
  },
  {
   "cell_type": "code",
   "execution_count": 81,
   "outputs": [],
   "source": [
    "def inv_gauss(a, prt):\n",
    "    a = a.astype(float)\n",
    "    [N, M] = a.shape\n",
    "    C = np.c_[a, np.eye(N)]\n",
    "    [N, M] = C.shape\n",
    "    _Ai = np.zeros((N, N))\n",
    "    if prt:\n",
    "        print(\"Matriz Aumentada C = [A|Ai] \")\n",
    "        print(C)\n",
    "    for p in range(N):\n",
    "        (C, dist) = pivotar_coluna(p, p, N, C, prt)\n",
    "        C[p, :] = C[p, :] / C[p, p]\n",
    "        if prt:\n",
    "            print(\"Eliminando coluna %d com Pivô %f\" % (p,C[p,p]) )\n",
    "            linhas = np.concatenate((np.arange(0, p), np.arange(p+1, N)))\n",
    "            for lin in linhas:\n",
    "                (C, m) = eliminar_linha(lin, p, C, prt)\n",
    "                if prt:\n",
    "                    print(C)\n",
    "                if C[p, p] != 0:\n",
    "                    _Ai = C[0:N, N:2*N]\n",
    "                else:\n",
    "                    print(\"não há solução única pois matriz A é singular.\")\n",
    "                    _Ai = []\n",
    "    return _Ai"
   ],
   "metadata": {
    "collapsed": false,
    "pycharm": {
     "name": "#%%\n"
    }
   }
  },
  {
   "cell_type": "code",
   "execution_count": 82,
   "outputs": [
    {
     "data": {
      "text/plain": "array([[ 0.2244898 , -0.12244898,  0.14285714],\n       [-0.06122449,  0.30612245,  0.14285714],\n       [ 0.20408163, -0.02040816, -0.14285714]])"
     },
     "execution_count": 82,
     "metadata": {},
     "output_type": "execute_result"
    }
   ],
   "source": [
    "inv_cofat(A)"
   ],
   "metadata": {
    "collapsed": false,
    "pycharm": {
     "name": "#%%\n"
    }
   }
  },
  {
   "cell_type": "code",
   "execution_count": 83,
   "outputs": [
    {
     "name": "stdout",
     "output_type": "stream",
     "text": [
      "Matriz Aumentada C = [A|Ai] \n",
      "[[ 2.  1.  3.  1.  0.  0.]\n",
      " [-1.  3.  2.  0.  1.  0.]\n",
      " [ 3.  1. -3.  0.  0.  1.]]\n",
      "Trocando linhas 0 e 2\n",
      "  0    1    2    3    4    5\n",
      "---  ---  ---  ---  ---  ---\n",
      "  3    1   -3    0    0    1\n",
      " -1    3    2    0    1    0\n",
      "  2    1    3    1    0    0\n",
      "Eliminando coluna 0 com Pivô 1.000000\n",
      "(L1)=(L1)-(-1.000000)/(1.000000)*L(0)\n",
      "[[ 1.          0.33333333 -1.          0.          0.          0.33333333]\n",
      " [ 0.          3.33333333  1.          0.          1.          0.33333333]\n",
      " [ 2.          1.          3.          1.          0.          0.        ]]\n",
      "(L2)=(L2)-(2.000000)/(1.000000)*L(0)\n",
      "[[ 1.          0.33333333 -1.          0.          0.          0.33333333]\n",
      " [ 0.          3.33333333  1.          0.          1.          0.33333333]\n",
      " [ 0.          0.33333333  5.          1.          0.         -0.66666667]]\n",
      "Eliminando coluna 1 com Pivô 1.000000\n",
      "(L0)=(L0)-(0.333333)/(1.000000)*L(1)\n",
      "[[ 1.          0.         -1.1         0.         -0.1         0.3       ]\n",
      " [ 0.          1.          0.3         0.          0.3         0.1       ]\n",
      " [ 0.          0.33333333  5.          1.          0.         -0.66666667]]\n",
      "(L2)=(L2)-(0.333333)/(1.000000)*L(1)\n",
      "[[ 1.   0.  -1.1  0.  -0.1  0.3]\n",
      " [ 0.   1.   0.3  0.   0.3  0.1]\n",
      " [ 0.   0.   4.9  1.  -0.1 -0.7]]\n",
      "Eliminando coluna 2 com Pivô 1.000000\n",
      "(L0)=(L0)-(-1.100000)/(1.000000)*L(2)\n",
      "[[ 1.          0.          0.          0.2244898  -0.12244898  0.14285714]\n",
      " [ 0.          1.          0.3         0.          0.3         0.1       ]\n",
      " [ 0.          0.          1.          0.20408163 -0.02040816 -0.14285714]]\n",
      "(L1)=(L1)-(0.300000)/(1.000000)*L(2)\n",
      "[[ 1.          0.          0.          0.2244898  -0.12244898  0.14285714]\n",
      " [ 0.          1.          0.         -0.06122449  0.30612245  0.14285714]\n",
      " [ 0.          0.          1.          0.20408163 -0.02040816 -0.14285714]]\n"
     ]
    },
    {
     "data": {
      "text/plain": "array([[ 0.2244898 , -0.12244898,  0.14285714],\n       [-0.06122449,  0.30612245,  0.14285714],\n       [ 0.20408163, -0.02040816, -0.14285714]])"
     },
     "execution_count": 83,
     "metadata": {},
     "output_type": "execute_result"
    }
   ],
   "source": [
    "inv_gauss(A, True)"
   ],
   "metadata": {
    "collapsed": false,
    "pycharm": {
     "name": "#%%\n"
    }
   }
  },
  {
   "cell_type": "markdown",
   "source": [
    "#### Fatoração LU"
   ],
   "metadata": {
    "collapsed": false,
    "pycharm": {
     "name": "#%% md\n"
    }
   }
  },
  {
   "cell_type": "code",
   "execution_count": 84,
   "outputs": [],
   "source": [
    "def fatoracao_lu(a,prt): # com pivotamento\n",
    "   a = a.astype(float)\n",
    "   [N,M]=A.shape\n",
    "   L = np.eye(N)\n",
    "   P = L.copy()\n",
    "   U = A.copy()\n",
    "   if prt:\n",
    "       print(\"Matriz Aumentada [C=A|b]\")\n",
    "       print(np.c_[L, U])\n",
    "   for p in range(N-1):\n",
    "       (U ,dist)=pivotar_coluna(p,p,N,U,prt)\n",
    "       if dist>1:\n",
    "          P[[ p, (dist+p)],:] = P[[ (dist+p) , p ],:]\n",
    "          for col in range(p): # troca linhas abaixo da diagonal\n",
    "            if col<p:\n",
    "               L[[p,(dist+p)],col] = L[[(dist+p),p],col]\n",
    "          if prt:\n",
    "            print(\"Trocando linhas %d e %d de U\" % (p,p+dist))\n",
    "            print(\"Trocando linhas %d e %d de L abaixo da diagonal\" % (p,p+dist))\n",
    "            print(np.c_[L, U])\n",
    "       if U[p, p]==0:\n",
    "           break\n",
    "       for lin in range(p+1,N): #eliminação progressiva\n",
    "           (U, m)=eliminar_linha(lin,p,U,prt)\n",
    "           L[lin,p] = m\n",
    "       if prt:\n",
    "           print(np.c_[L, U])\n",
    "   return L, U, P\n"
   ],
   "metadata": {
    "collapsed": false,
    "pycharm": {
     "name": "#%%\n"
    }
   }
  },
  {
   "cell_type": "code",
   "execution_count": 84,
   "outputs": [],
   "source": [],
   "metadata": {
    "collapsed": false,
    "pycharm": {
     "name": "#%%\n"
    }
   }
  },
  {
   "cell_type": "markdown",
   "source": [
    "#### Resolução de sistema usando os fatores L, U"
   ],
   "metadata": {
    "collapsed": false,
    "pycharm": {
     "name": "#%% md\n"
    }
   }
  },
  {
   "cell_type": "code",
   "execution_count": 85,
   "outputs": [],
   "source": [
    "def solucao_lu(L,U,P,b,prt):\n",
    "    bp = P @ b\n",
    "    y = substituicao_progressiva(L,bp,False)\n",
    "    x = substituicao_regressiva(U,y,False)\n",
    "    if prt:\n",
    "        print(\"[b bp]\")\n",
    "        print(np.c_[b, bp])\n",
    "        print(\"matriz aumentada  [L  bp y]\")\n",
    "        print(np.c_[L, bp, y])\n",
    "        print(\"matriz aumentada  [U y x]\")\n",
    "        print(np.c_[U, y, x])\n",
    "    return x"
   ],
   "metadata": {
    "collapsed": false,
    "pycharm": {
     "name": "#%%\n"
    }
   }
  },
  {
   "cell_type": "code",
   "execution_count": 86,
   "outputs": [
    {
     "name": "stdout",
     "output_type": "stream",
     "text": [
      "Matriz Aumentada [C=A|b]\n",
      "[[ 1.  0.  0.  2.  1.  3.]\n",
      " [ 0.  1.  0. -1.  3.  2.]\n",
      " [ 0.  0.  1.  3.  1. -3.]]\n",
      "Trocando linhas 0 e 2\n",
      "  0    1    2\n",
      "---  ---  ---\n",
      "  3    1   -3\n",
      " -1    3    2\n",
      "  2    1    3\n",
      "Trocando linhas 0 e 2 de U\n",
      "Trocando linhas 0 e 2 de L abaixo da diagonal\n",
      "[[ 1.  0.  0.  3.  1. -3.]\n",
      " [ 0.  1.  0. -1.  3.  2.]\n",
      " [ 0.  0.  1.  2.  1.  3.]]\n",
      "(L1)=(L1)-(-1.000000)/(3.000000)*L(0)\n",
      "(L2)=(L2)-(2.000000)/(3.000000)*L(0)\n",
      "[[ 1.          0.          0.          3.          1.         -3.        ]\n",
      " [-0.33333333  1.          0.          0.          3.33333333  1.        ]\n",
      " [ 0.66666667  0.          1.          0.          0.33333333  5.        ]]\n",
      "(L2)=(L2)-(0.333333)/(3.333333)*L(1)\n",
      "[[ 1.          0.          0.          3.          1.         -3.        ]\n",
      " [-0.33333333  1.          0.          0.          3.33333333  1.        ]\n",
      " [ 0.66666667  0.1         1.          0.          0.          4.9       ]]\n"
     ]
    },
    {
     "data": {
      "text/plain": "(array([[ 1.        ,  0.        ,  0.        ],\n        [-0.33333333,  1.        ,  0.        ],\n        [ 0.66666667,  0.1       ,  1.        ]]),\n array([[ 3.        ,  1.        , -3.        ],\n        [ 0.        ,  3.33333333,  1.        ],\n        [ 0.        ,  0.        ,  4.9       ]]),\n array([[0., 0., 1.],\n        [0., 1., 0.],\n        [1., 0., 0.]]))"
     },
     "execution_count": 86,
     "metadata": {},
     "output_type": "execute_result"
    }
   ],
   "source": [
    "(l, u, p_) = fatoracao_lu(A, True)\n",
    "(l, u, p_)"
   ],
   "metadata": {
    "collapsed": false,
    "pycharm": {
     "name": "#%%\n"
    }
   }
  },
  {
   "cell_type": "code",
   "execution_count": 87,
   "outputs": [
    {
     "name": "stdout",
     "output_type": "stream",
     "text": [
      "[b bp]\n",
      "[[4. 2.]\n",
      " [3. 3.]\n",
      " [2. 4.]]\n",
      "matriz aumentada  [L  bp y]\n",
      "[[ 1.          0.          0.          2.          2.        ]\n",
      " [-0.33333333  1.          0.          3.          3.66666667]\n",
      " [ 0.66666667  0.1         1.          4.          2.3       ]]\n",
      "matriz aumentada  [U y x]\n",
      "[[ 3.          1.         -3.          2.          0.81632653]\n",
      " [ 0.          3.33333333  1.          3.66666667  0.95918367]\n",
      " [ 0.          0.          4.9         2.3         0.46938776]]\n"
     ]
    },
    {
     "data": {
      "text/plain": "array([0.81632653, 0.95918367, 0.46938776])"
     },
     "execution_count": 87,
     "metadata": {},
     "output_type": "execute_result"
    }
   ],
   "source": [
    "solucao_lu(l, u, p_, ba, True)"
   ],
   "metadata": {
    "collapsed": false,
    "pycharm": {
     "name": "#%%\n"
    }
   }
  },
  {
   "cell_type": "markdown",
   "source": [
    "#### Sistemas tridiagonais"
   ],
   "metadata": {
    "collapsed": false,
    "pycharm": {
     "name": "#%% md\n"
    }
   }
  },
  {
   "cell_type": "code",
   "execution_count": 88,
   "outputs": [],
   "source": [
    "def tridiagonal(dl,dp,du,r):\n",
    "    dl= dl.astype(float)\n",
    "    dp= dp.astype(float)\n",
    "    du= du.astype(float)\n",
    "    r = r.astype(float)\n",
    "    N=len(r)\n",
    "    y = np.zeros(N)\n",
    "    for k in range(1,N): #eliminação progressiva\n",
    "        m=dl[k-1]/dp[k-1];\n",
    "        dp[k]=dp[k]-m*du[k-1];\n",
    "        r[k]=r[k]-m*r[k-1];\n",
    "    y[N-1]=r[N-1]/dp[N-1]; #substituição regressiva\n",
    "    for k in range(N-2,-1,-1):\n",
    "        y[k]=(r[k]-du[k]*y[k+1])/dp[k];\n",
    "    return y"
   ],
   "metadata": {
    "collapsed": false,
    "pycharm": {
     "name": "#%%\n"
    }
   }
  },
  {
   "cell_type": "code",
   "execution_count": 89,
   "outputs": [
    {
     "data": {
      "text/plain": "array([[ 1,  3,  0,  0,  0,  0,  0,  0,  0,  0,  0,  0,  0,  0,  0],\n       [ 7,  3,  7,  0,  0,  0,  0,  0,  0,  0,  0,  0,  0,  0,  0],\n       [ 0,  9,  5,  3,  0,  0,  0,  0,  0,  0,  0,  0,  0,  0,  0],\n       [ 0,  0,  4,  3,  2,  0,  0,  0,  0,  0,  0,  0,  0,  0,  0],\n       [ 0,  0,  0,  1,  4,  1,  0,  0,  0,  0,  0,  0,  0,  0,  0],\n       [ 0,  0,  0,  0,  2,  6,  5,  0,  0,  0,  0,  0,  0,  0,  0],\n       [ 0,  0,  0,  0,  0, 34,  7,  3,  0,  0,  0,  0,  0,  0,  0],\n       [ 0,  0,  0,  0,  0,  0, 32,  5,  9,  0,  0,  0,  0,  0,  0],\n       [ 0,  0,  0,  0,  0,  0,  0, 65,  3,  8,  0,  0,  0,  0,  0],\n       [ 0,  0,  0,  0,  0,  0,  0,  0, 23,  5, 24,  0,  0,  0,  0],\n       [ 0,  0,  0,  0,  0,  0,  0,  0,  0, 12,  6, 12,  0,  0,  0],\n       [ 0,  0,  0,  0,  0,  0,  0,  0,  0,  0, 12,  8,  6,  0,  0],\n       [ 0,  0,  0,  0,  0,  0,  0,  0,  0,  0,  0,  5, 10,  7,  0],\n       [ 0,  0,  0,  0,  0,  0,  0,  0,  0,  0,  0,  0,  9,  7,  8],\n       [ 0,  0,  0,  0,  0,  0,  0,  0,  0,  0,  0,  0,  0,  3, 14]])"
     },
     "execution_count": 89,
     "metadata": {},
     "output_type": "execute_result"
    }
   ],
   "source": [
    "dl = np.array([7,9,4,1,2,34,32,65,23,12,12,5,9,3])\n",
    "dp = np.array([1,3,5,3,4,6,7,5,3,5,6,8,10,7,14])\n",
    "du = np.array([3,7,3,2,1,5,3,9,8,24,12,6,7,8])\n",
    "r=np.array([1,1.98,4.99,2.98,6.97,4.01,4.98,2.25,3.37,6.94,4.92,3.04,5.97,7.91,1.89]) # vetor dos termos independentes\n",
    "A = np.diag(dp) + np.diag(du, 1) + np.diag(dl, -1)\n",
    "A"
   ],
   "metadata": {
    "collapsed": false,
    "pycharm": {
     "name": "#%%\n"
    }
   }
  },
  {
   "cell_type": "code",
   "execution_count": 90,
   "outputs": [
    {
     "data": {
      "text/plain": "array([-0.77,  0.59,  0.8 , -1.44,  2.05,  0.21, -0.27, -0.09,  1.26,\n        0.68, -1.06,  0.26,  2.28, -2.59,  0.69])"
     },
     "execution_count": 90,
     "metadata": {},
     "output_type": "execute_result"
    }
   ],
   "source": [
    "tridiagonal(dl, dp, du, r)"
   ],
   "metadata": {
    "collapsed": false,
    "pycharm": {
     "name": "#%%\n"
    }
   }
  },
  {
   "cell_type": "markdown",
   "source": [
    "### Métodos Iterativos p/ resolução de sistemas lineares"
   ],
   "metadata": {
    "collapsed": false,
    "pycharm": {
     "name": "#%% md\n"
    }
   }
  },
  {
   "cell_type": "code",
   "execution_count": 101,
   "outputs": [],
   "source": [
    "def gaussjacobi(a,b,x_ini,tol,prt):\n",
    "     N = len(b)\n",
    "     erro_lista=[]\n",
    "     erro=np.nan\n",
    "     erro_lista.append(erro)\n",
    "     x1 = np.zeros(N)\n",
    "     x0 = np.array(x_ini,dtype=\"float64\")\n",
    "     if prt:\n",
    "        print(\"Matriz Aumentada [A,b]\")\n",
    "        print(np.c_[a, b])\n",
    "        print(\"k\\t\\t[x]\\t\\t\\terro\")\n",
    "        np.set_printoptions(precision=4)\n",
    "        print(str(0)+' ['+', '.join('{:.8f}'.format(i) for i in x0)+'] ' +'{:.1e}'.format(erro))\n",
    "     for k in range (1,500):\n",
    "        for j in range (N):\n",
    "            x1[j]=(b[j]- a[j,:]@x0 + a[j,j]*x0[j])/a[j,j]\n",
    "        if np.linalg.norm(x1) != 0:\n",
    "            erro=np.linalg.norm(x1-x0)/np.linalg.norm(x1)\n",
    "        x0[:]=x1[:]\n",
    "        #x0=x1\n",
    "        if prt:\n",
    "            print(str(k)+' ['+', '.join('{:.8f}'.format(i) for i in x0)+'] ' +'{:.1e}'.format(erro))\n",
    "        erro_lista.append(erro)\n",
    "        if erro<tol:\n",
    "            break\n",
    "     if prt:\n",
    "        print(\"\\nSolução x=\",' [',', '.join('{:.8f}'.format(i) for i in x0),']')\n",
    "        print ('após %i iterações com erro=%.1e\\n' % (k,erro))\n",
    "     return x1, erro_lista"
   ],
   "metadata": {
    "collapsed": false,
    "pycharm": {
     "name": "#%%\n"
    }
   }
  },
  {
   "cell_type": "code",
   "execution_count": 103,
   "outputs": [
    {
     "data": {
      "text/plain": "(array([[ 2,  1,  3],\n        [-1,  3,  2],\n        [ 3,  1, -3]]),\n array([4, 3, 2]))"
     },
     "execution_count": 103,
     "metadata": {},
     "output_type": "execute_result"
    }
   ],
   "source": [
    "A = np.array([[2, 1, 3], [-1, 3, 2], [3, 1, -3]])\n",
    "A, ba"
   ],
   "metadata": {
    "collapsed": false,
    "pycharm": {
     "name": "#%%\n"
    }
   }
  },
  {
   "cell_type": "code",
   "execution_count": 110,
   "outputs": [
    {
     "name": "stdout",
     "output_type": "stream",
     "text": [
      "Matriz Aumentada [A,b]\n",
      "[[ 8  2  4  9]\n",
      " [ 1 11  3 18]\n",
      " [ 5  3 10 72]]\n",
      "k\t\t[x]\t\t\terro\n",
      "0 [0.00000000, 0.00000000, 0.00000000] nan\n",
      "1 [1.12500000, 1.63636364, 7.20000000] 1.0e+00\n",
      "2 [-2.88409091, -0.42954545, 6.14659091] 6.8e-01\n",
      "3 [-1.84090909, 0.22221074, 8.77090909] 3.2e-01\n",
      "4 [-3.31600723, -0.58834711, 8.05379132] 2.1e-01\n",
      "5 [-2.75480888, -0.25866970, 9.03450775] 1.2e-01\n",
      "6 [-3.32758645, -0.57715585, 8.65500535] 8.2e-02\n",
      "7 [-3.05821371, -0.42158451, 9.03693998] 5.2e-02\n",
      "8 [-3.28807386, -0.55023693, 8.85558221] 3.4e-02\n",
      "9 [-3.16523187, -0.47987934, 9.00910801] 2.2e-02\n",
      "10 [-3.25958417, -0.53291747, 8.92657974] 1.4e-02\n",
      "11 [-3.20506050, -0.50183228, 8.98966733] 9.3e-03\n",
      "12 [-3.24437559, -0.52399468, 8.95307993] 6.1e-03\n",
      "13 [-3.22054130, -0.51044220, 8.97938620] 4.0e-03\n",
      "14 [-3.23708255, -0.51978339, 8.96340331] 2.6e-03\n",
      "15 [-3.22675581, -0.51392067, 8.97447629] 1.7e-03\n",
      "16 [-3.23375798, -0.51787937, 8.96755410] 1.1e-03\n",
      "17 [-3.22930721, -0.51535494, 8.97224280] 7.3e-04\n",
      "18 [-3.23228267, -0.51703829, 8.96926009] 4.8e-04\n",
      "19 [-3.23037047, -0.51595433, 8.97125282] 3.1e-04\n",
      "20 [-3.23163783, -0.51667164, 8.96997153] 2.0e-04\n",
      "21 [-3.23081786, -0.51620698, 8.97082040] 1.3e-04\n",
      "22 [-3.23135846, -0.51651303, 8.97027102] 8.7e-05\n",
      "23 [-3.23100725, -0.51631406, 8.97063314] 5.7e-05\n",
      "24 [-3.23123806, -0.51644474, 8.97039784] 3.7e-05\n",
      "25 [-3.23108774, -0.51635959, 8.97055245] 2.4e-05\n",
      "26 [-3.23118633, -0.51641542, 8.97045174] 1.6e-05\n",
      "27 [-3.23112202, -0.51637899, 8.97051779] 1.0e-05\n",
      "28 [-3.23116415, -0.51640285, 8.97047471] 6.8e-06\n",
      "29 [-3.23113664, -0.51638727, 8.97050293] 4.4e-06\n",
      "30 [-3.23115465, -0.51639747, 8.97048450] 2.9e-06\n",
      "31 [-3.23114288, -0.51639081, 8.97049656] 1.9e-06\n",
      "32 [-3.23115058, -0.51639516, 8.97048868] 1.2e-06\n",
      "33 [-3.23114555, -0.51639232, 8.97049384] 8.1e-07\n",
      "\n",
      "Solução x=  [ -3.23114555, -0.51639232, 8.97049384 ]\n",
      "após 33 iterações com erro=8.1e-07\n",
      "\n"
     ]
    }
   ],
   "source": [
    "A2 = np.array([[8,2,4], [1,11,3], [5,3,10]])\n",
    "b2 = np.array([9,18,72])\n",
    "(xr, err) = gaussjacobi(A2, b2, [0, 0, 0], 1e-6, True)"
   ],
   "metadata": {
    "collapsed": false,
    "pycharm": {
     "name": "#%%\n"
    }
   }
  },
  {
   "cell_type": "code",
   "execution_count": 111,
   "outputs": [
    {
     "data": {
      "text/plain": "array([-3.2311, -0.5164,  8.9705])"
     },
     "execution_count": 111,
     "metadata": {},
     "output_type": "execute_result"
    }
   ],
   "source": [
    "xr"
   ],
   "metadata": {
    "collapsed": false,
    "pycharm": {
     "name": "#%%\n"
    }
   }
  },
  {
   "cell_type": "code",
   "execution_count": null,
   "outputs": [],
   "source": [],
   "metadata": {
    "collapsed": false,
    "pycharm": {
     "name": "#%%\n"
    }
   }
  }
 ],
 "metadata": {
  "kernelspec": {
   "display_name": "Python 3",
   "language": "python",
   "name": "python3"
  },
  "language_info": {
   "codemirror_mode": {
    "name": "ipython",
    "version": 2
   },
   "file_extension": ".py",
   "mimetype": "text/x-python",
   "name": "python",
   "nbconvert_exporter": "python",
   "pygments_lexer": "ipython2",
   "version": "2.7.6"
  }
 },
 "nbformat": 4,
 "nbformat_minor": 0
}