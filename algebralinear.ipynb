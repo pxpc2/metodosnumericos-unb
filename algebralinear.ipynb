{
 "cells": [
  {
   "cell_type": "code",
   "execution_count": 22,
   "metadata": {
    "collapsed": true,
    "pycharm": {
     "name": "#%%\n"
    }
   },
   "outputs": [],
   "source": [
    "import numpy as np\n",
    "import matplotlib as plt\n",
    "from tabulate import tabulate"
   ]
  },
  {
   "cell_type": "markdown",
   "source": [
    "### Resolver o sistema:\n",
    " 2x + y + 3z = 4\n",
    " -1x + 3y + 2z = 3\n",
    " 3x + y - 3z = 2"
   ],
   "metadata": {
    "collapsed": false,
    "pycharm": {
     "name": "#%% md\n"
    }
   }
  },
  {
   "cell_type": "code",
   "execution_count": 25,
   "outputs": [
    {
     "data": {
      "text/plain": "array([0.81632653, 0.95918367, 0.46938776])"
     },
     "execution_count": 25,
     "metadata": {},
     "output_type": "execute_result"
    }
   ],
   "source": [
    "A = np.array([[2, 1, 3], [-1, 3, 2], [3, 1, -3]])\n",
    "ba = np.array([4, 3, 2])\n",
    "Ai = np.linalg.inv(A)\n",
    "r = Ai @ ba\n",
    "r"
   ],
   "metadata": {
    "collapsed": false,
    "pycharm": {
     "name": "#%%\n"
    }
   }
  },
  {
   "cell_type": "code",
   "execution_count": 4,
   "outputs": [],
   "source": [
    "def cofat(m):\n",
    "    n = len(m)\n",
    "    cof = np.zeros((n, n))\n",
    "    for col in range(n):\n",
    "        for lin in range(n):\n",
    "            d_ij = np.delete(m, lin, 0)\n",
    "            d_ij = np.delete(d_ij, col, 1)\n",
    "            det = np.linalg.det(d_ij)\n",
    "            cof[lin][col] = (-1) ** (lin + col) * det\n",
    "    return cof\n",
    "\n",
    "\n",
    "def adjuta(m):\n",
    "    return cofat(m).transpose()\n",
    "\n",
    "\n",
    "def inv_cofat(m):\n",
    "    return (1 / np.linalg.det(m)) * adjuta(m)"
   ],
   "metadata": {
    "collapsed": false,
    "pycharm": {
     "name": "#%%\n"
    }
   }
  },
  {
   "cell_type": "code",
   "execution_count": 14,
   "outputs": [
    {
     "name": "stdout",
     "output_type": "stream",
     "text": [
      "Ai com linalg:\n",
      " [[ 0.2244898  -0.12244898  0.14285714]\n",
      " [-0.06122449  0.30612245  0.14285714]\n",
      " [ 0.20408163 -0.02040816 -0.14285714]] \n",
      "Ai com inv_cofat:\n",
      " [[ 0.2244898  -0.12244898  0.14285714]\n",
      " [-0.06122449  0.30612245  0.14285714]\n",
      " [ 0.20408163 -0.02040816 -0.14285714]]\n"
     ]
    }
   ],
   "source": [
    "A = np.array([[2, 1, 3], [-1, 3, 2], [3, 1, -3]])\n",
    "Ai1 = np.linalg.inv(A)\n",
    "Ai2 = inv_cofat(A)\n",
    "print(\"Ai com linalg:\\n\", Ai1, \"\\nAi com inv_cofat:\\n\", Ai2)"
   ],
   "metadata": {
    "collapsed": false,
    "pycharm": {
     "name": "#%%\n"
    }
   }
  },
  {
   "cell_type": "code",
   "execution_count": 24,
   "outputs": [
    {
     "name": "stdout",
     "output_type": "stream",
     "text": [
      "[0.81632653 0.95918367 0.46938776]  =  [0.81632653 0.95918367 0.46938776]\n"
     ]
    }
   ],
   "source": [
    "A = np.array([[2, 1, 3], [-1, 3, 2], [3, 1, -3]])\n",
    "ba = np.array(([4, 3, 2]))\n",
    "x1 = np.linalg.solve(A, ba)\n",
    "x2 = inv_cofat(A) @ ba\n",
    "print(x1, \" = \", x2)"
   ],
   "metadata": {
    "collapsed": false,
    "pycharm": {
     "name": "#%%\n"
    }
   }
  },
  {
   "cell_type": "code",
   "execution_count": 16,
   "outputs": [],
   "source": [
    "def det_cofat(M):\n",
    "    n = len(M)\n",
    "    if n == 1:\n",
    "        return M\n",
    "    cof = np.zeros(n)\n",
    "    for col in range(n):\n",
    "        d = np.delete(M, 0, 0)\n",
    "        d = np.delete(d, col, 1)\n",
    "        cof[col] = ((-1) ** col) * det_cofat(d)\n",
    "    return M[0, :] @ cof"
   ],
   "metadata": {
    "collapsed": false,
    "pycharm": {
     "name": "#%%\n"
    }
   }
  },
  {
   "cell_type": "code",
   "execution_count": 17,
   "outputs": [
    {
     "data": {
      "text/plain": "(-49.000000000000014, -49.0)"
     },
     "execution_count": 17,
     "metadata": {},
     "output_type": "execute_result"
    }
   ],
   "source": [
    "np.linalg.det(A), det_cofat(A)"
   ],
   "metadata": {
    "collapsed": false,
    "pycharm": {
     "name": "#%%\n"
    }
   }
  },
  {
   "cell_type": "code",
   "execution_count": 18,
   "outputs": [],
   "source": [
    "def cramer(M, B, prt):\n",
    "    n = len(M)\n",
    "    c = np.c_[M, B]\n",
    "    d = det_cofat(M)\n",
    "    x = np.zeros(n)\n",
    "    if prt:\n",
    "        print(\"Matriz aumentada [C=A|b] det(A) = %f\" % d)\n",
    "        print(c)\n",
    "    for k in range(0, n):\n",
    "        ak = M.copy()\n",
    "        ak[:, k] = B\n",
    "        dk = det_cofat(ak)\n",
    "        x[k] = dk/d\n",
    "        if prt:\n",
    "            print(\"Matriz A%d    det(A%1d) = %f\" % (k, k, dk))\n",
    "            print(ak)\n",
    "            print(\"x(%d) = %f / %f = %f\\n\" % (k, dk, d, x[k]))\n",
    "    return x"
   ],
   "metadata": {
    "collapsed": false,
    "pycharm": {
     "name": "#%%\n"
    }
   }
  },
  {
   "cell_type": "code",
   "execution_count": 26,
   "outputs": [
    {
     "data": {
      "text/plain": "array([0.81632653, 0.95918367, 0.46938776])"
     },
     "execution_count": 26,
     "metadata": {},
     "output_type": "execute_result"
    }
   ],
   "source": [
    "inv_cofat(A)@ba"
   ],
   "metadata": {
    "collapsed": false,
    "pycharm": {
     "name": "#%%\n"
    }
   }
  },
  {
   "cell_type": "code",
   "execution_count": 27,
   "outputs": [
    {
     "name": "stdout",
     "output_type": "stream",
     "text": [
      "Matriz aumentada [C=A|b] det(A) = -49.000000\n",
      "[[ 2  1  3  4]\n",
      " [-1  3  2  3]\n",
      " [ 3  1 -3  2]]\n",
      "Matriz A0    det(A0) = -40.000000\n",
      "[[ 4  1  3]\n",
      " [ 3  3  2]\n",
      " [ 2  1 -3]]\n",
      "x(0) = -40.000000 / -49.000000 = 0.816327\n",
      "\n",
      "Matriz A1    det(A1) = -47.000000\n",
      "[[ 2  4  3]\n",
      " [-1  3  2]\n",
      " [ 3  2 -3]]\n",
      "x(1) = -47.000000 / -49.000000 = 0.959184\n",
      "\n",
      "Matriz A2    det(A2) = -23.000000\n",
      "[[ 2  1  4]\n",
      " [-1  3  3]\n",
      " [ 3  1  2]]\n",
      "x(2) = -23.000000 / -49.000000 = 0.469388\n",
      "\n"
     ]
    },
    {
     "data": {
      "text/plain": "array([0.81632653, 0.95918367, 0.46938776])"
     },
     "execution_count": 27,
     "metadata": {},
     "output_type": "execute_result"
    }
   ],
   "source": [
    "cramer(A, ba, True)"
   ],
   "metadata": {
    "collapsed": false,
    "pycharm": {
     "name": "#%%\n"
    }
   }
  },
  {
   "cell_type": "code",
   "execution_count": 28,
   "outputs": [],
   "source": [
    "def eliminar_linha(lin, p, c, prt):\n",
    "  c = c.astype(float)\n",
    "  [N, M] = c.shape\n",
    "  if prt:\n",
    "    print(\"(L%d)=(L%d)-(%f)/(%f)*L(%d)\" % (lin, lin, c[lin, p], c[p, p], p))\n",
    "  m = c[lin, p] / c[p, p]\n",
    "  c[lin, p:M+1]=c[lin,p:M+1]-m*c[p,p:M+1]\n",
    "  return c, m\n",
    "\n",
    "def pivotar_coluna(p,l_ini,l_fim,c,prt):\n",
    "     [N,M]=c.shape\n",
    "     linhas = np.arange(l_ini,l_fim)\n",
    "     dist=np.argmax(abs(c[linhas,p]))\n",
    "     if dist!=0:  #troca linhas\n",
    "         c[[ p, (dist+p)],:] = c[[ (dist+p) , p ],:]\n",
    "         if prt:\n",
    "             print(\"Trocando linhas %d e %d\" % (p,dist+p))\n",
    "             pdtabulate=lambda c:tabulate(c,headers='keys')\n",
    "             print(pdtabulate(c))\n",
    "     return c, dist\n",
    "\n",
    "def substituicao_regressiva(a,b,prt):\n",
    "  [N,M]=a.shape\n",
    "  x = np.zeros(N)*np.nan\n",
    "  if a[N - 1, N - 1]!=0: x[N - 1]= b[N - 1] / a[N - 1, N - 1];\n",
    "  if prt:\n",
    "      print(\"Substituição regressiva\\nx(%d)=%f\" % (N-1,x[N-1]))\n",
    "  for lin in range(N-2,-1,-1):\n",
    "     if a[lin, lin]!=0:\n",
    "       x[lin]=(b[lin]-a[lin,lin+1:N] @ x[lin+1:N])/a[lin,lin]\n",
    "     if prt:\n",
    "         print(\"x(%d)=%f\" % (lin,x[lin]))\n",
    "  return x"
   ],
   "metadata": {
    "collapsed": false,
    "pycharm": {
     "name": "#%%\n"
    }
   }
  },
  {
   "cell_type": "code",
   "execution_count": 29,
   "outputs": [],
   "source": [
    "def eliminacao_gauss(a, b, prt, pivot): # com pivotamento\n",
    "   a = a.astype(float)\n",
    "   b = b.astype(float)\n",
    "   C=np.c_[a, b]\n",
    "   [N, M]=C.shape\n",
    "   x = np.zeros(N)\n",
    "   if prt:\n",
    "       print(\"Matriz Aumentada [C=A|b]\")\n",
    "       print(C)\n",
    "   for p in range(N-1):\n",
    "       if pivot:\n",
    "         (C,dist)=pivotar_coluna(p,p,N,C,prt)\n",
    "       elif C[p, p]== 0:\n",
    "          break\n",
    "       if prt:\n",
    "            print(\"Eliminando coluna %d com Pivô %f\" % (p,C[p,p]) )\n",
    "       for lin in range(p+1,N): #eliminação progressiva\n",
    "           (C,m)=eliminar_linha(lin,p,C,prt)\n",
    "       if prt:\n",
    "           print(C)\n",
    "   if C[p, p]!=0:\n",
    "         x=substituicao_regressiva(C[:,0:N],C[:,N],prt)\n",
    "   else:\n",
    "         print(\"Não há solução única pois matriz A é singular\")\n",
    "         x[1:N]= np.inf\n",
    "   return x"
   ],
   "metadata": {
    "collapsed": false,
    "pycharm": {
     "name": "#%%\n"
    }
   }
  },
  {
   "cell_type": "code",
   "execution_count": 33,
   "outputs": [
    {
     "data": {
      "text/plain": "(array([[ 2,  1,  3],\n        [-1,  3,  2],\n        [ 3,  1, -3]]),\n array([4, 3, 2]))"
     },
     "execution_count": 33,
     "metadata": {},
     "output_type": "execute_result"
    }
   ],
   "source": [
    "A, ba"
   ],
   "metadata": {
    "collapsed": false,
    "pycharm": {
     "name": "#%%\n"
    }
   }
  },
  {
   "cell_type": "code",
   "execution_count": 34,
   "outputs": [
    {
     "name": "stdout",
     "output_type": "stream",
     "text": [
      "Matriz Aumentada [C=A|b]\n",
      "[[ 2.  1.  3.  4.]\n",
      " [-1.  3.  2.  3.]\n",
      " [ 3.  1. -3.  2.]]\n",
      "Eliminando coluna 0 com Pivô 2.000000\n",
      "(L1)=(L1)-(-1.000000)/(2.000000)*L(0)\n",
      "(L2)=(L2)-(3.000000)/(2.000000)*L(0)\n",
      "[[ 2.   1.   3.   4. ]\n",
      " [ 0.   3.5  3.5  5. ]\n",
      " [ 0.  -0.5 -7.5 -4. ]]\n",
      "Eliminando coluna 1 com Pivô 3.500000\n",
      "(L2)=(L2)-(-0.500000)/(3.500000)*L(1)\n",
      "[[ 2.          1.          3.          4.        ]\n",
      " [ 0.          3.5         3.5         5.        ]\n",
      " [ 0.          0.         -7.         -3.28571429]]\n",
      "Substituição regressiva\n",
      "x(2)=0.469388\n",
      "x(1)=0.959184\n",
      "x(0)=0.816327\n"
     ]
    },
    {
     "data": {
      "text/plain": "array([0.81632653, 0.95918367, 0.46938776])"
     },
     "execution_count": 34,
     "metadata": {},
     "output_type": "execute_result"
    }
   ],
   "source": [
    "eliminacao_gauss(A, ba, True, False)"
   ],
   "metadata": {
    "collapsed": false,
    "pycharm": {
     "name": "#%%\n"
    }
   }
  },
  {
   "cell_type": "code",
   "execution_count": null,
   "outputs": [],
   "source": [],
   "metadata": {
    "collapsed": false,
    "pycharm": {
     "name": "#%%\n"
    }
   }
  }
 ],
 "metadata": {
  "kernelspec": {
   "display_name": "Python 3",
   "language": "python",
   "name": "python3"
  },
  "language_info": {
   "codemirror_mode": {
    "name": "ipython",
    "version": 2
   },
   "file_extension": ".py",
   "mimetype": "text/x-python",
   "name": "python",
   "nbconvert_exporter": "python",
   "pygments_lexer": "ipython2",
   "version": "2.7.6"
  }
 },
 "nbformat": 4,
 "nbformat_minor": 0
}