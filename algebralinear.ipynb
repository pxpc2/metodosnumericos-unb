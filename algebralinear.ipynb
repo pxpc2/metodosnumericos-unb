{
 "cells": [
  {
   "cell_type": "code",
   "execution_count": 100,
   "metadata": {
    "collapsed": true,
    "pycharm": {
     "name": "#%%\n"
    }
   },
   "outputs": [],
   "source": [
    "import numpy as np\n",
    "import matplotlib as plt\n",
    "from tabulate import tabulate"
   ]
  },
  {
   "cell_type": "markdown",
   "source": [
    "### Resolver o sistema:\n",
    "\n",
    " 2x + y + 3z = 4\n",
    "\n",
    " -1x + 3y + 2z = 3\n",
    "\n",
    " 3x + y - 3z = 2"
   ],
   "metadata": {
    "collapsed": false,
    "pycharm": {
     "name": "#%% md\n"
    }
   }
  },
  {
   "cell_type": "code",
   "execution_count": 101,
   "outputs": [
    {
     "data": {
      "text/plain": "array([0.81632653, 0.95918367, 0.46938776])"
     },
     "execution_count": 101,
     "metadata": {},
     "output_type": "execute_result"
    }
   ],
   "source": [
    "A = np.array([[2, 1, 3], [-1, 3, 2], [3, 1, -3]])\n",
    "ba = np.array([4, 3, 2])\n",
    "Ai = np.linalg.inv(A)\n",
    "r = Ai @ ba\n",
    "r"
   ],
   "metadata": {
    "collapsed": false,
    "pycharm": {
     "name": "#%%\n"
    }
   }
  },
  {
   "cell_type": "code",
   "execution_count": 102,
   "outputs": [],
   "source": [
    "def cofat(m):\n",
    "    n = len(m)\n",
    "    cof = np.zeros((n, n))\n",
    "    for col in range(n):\n",
    "        for lin in range(n):\n",
    "            d_ij = np.delete(m, lin, 0)\n",
    "            d_ij = np.delete(d_ij, col, 1)\n",
    "            det = np.linalg.det(d_ij)\n",
    "            cof[lin][col] = (-1) ** (lin + col) * det\n",
    "    return cof\n",
    "\n",
    "\n",
    "def adjuta(m):\n",
    "    return cofat(m).transpose()\n",
    "\n",
    "\n",
    "def inv_cofat(m):\n",
    "    return (1 / np.linalg.det(m)) * adjuta(m)"
   ],
   "metadata": {
    "collapsed": false,
    "pycharm": {
     "name": "#%%\n"
    }
   }
  },
  {
   "cell_type": "code",
   "execution_count": 103,
   "outputs": [
    {
     "name": "stdout",
     "output_type": "stream",
     "text": [
      "Ai com linalg:\n",
      " [[ 0.2244898  -0.12244898  0.14285714]\n",
      " [-0.06122449  0.30612245  0.14285714]\n",
      " [ 0.20408163 -0.02040816 -0.14285714]] \n",
      "Ai com inv_cofat:\n",
      " [[ 0.2244898  -0.12244898  0.14285714]\n",
      " [-0.06122449  0.30612245  0.14285714]\n",
      " [ 0.20408163 -0.02040816 -0.14285714]]\n"
     ]
    }
   ],
   "source": [
    "A = np.array([[2, 1, 3], [-1, 3, 2], [3, 1, -3]])\n",
    "Ai1 = np.linalg.inv(A)\n",
    "Ai2 = inv_cofat(A)\n",
    "print(\"Ai com linalg:\\n\", Ai1, \"\\nAi com inv_cofat:\\n\", Ai2)"
   ],
   "metadata": {
    "collapsed": false,
    "pycharm": {
     "name": "#%%\n"
    }
   }
  },
  {
   "cell_type": "code",
   "execution_count": 104,
   "outputs": [
    {
     "name": "stdout",
     "output_type": "stream",
     "text": [
      "[0.81632653 0.95918367 0.46938776]  =  [0.81632653 0.95918367 0.46938776]\n"
     ]
    }
   ],
   "source": [
    "A = np.array([[2, 1, 3], [-1, 3, 2], [3, 1, -3]])\n",
    "ba = np.array(([4, 3, 2]))\n",
    "x1 = np.linalg.solve(A, ba)\n",
    "x2 = inv_cofat(A) @ ba\n",
    "print(x1, \" = \", x2)"
   ],
   "metadata": {
    "collapsed": false,
    "pycharm": {
     "name": "#%%\n"
    }
   }
  },
  {
   "cell_type": "code",
   "execution_count": 105,
   "outputs": [],
   "source": [
    "def det_cofat(M):\n",
    "    n = len(M)\n",
    "    if n == 1:\n",
    "        return M\n",
    "    cof = np.zeros(n)\n",
    "    for col in range(n):\n",
    "        d = np.delete(M, 0, 0)\n",
    "        d = np.delete(d, col, 1)\n",
    "        cof[col] = ((-1) ** col) * det_cofat(d)\n",
    "    return M[0, :] @ cof"
   ],
   "metadata": {
    "collapsed": false,
    "pycharm": {
     "name": "#%%\n"
    }
   }
  },
  {
   "cell_type": "code",
   "execution_count": 106,
   "outputs": [
    {
     "data": {
      "text/plain": "(-49.000000000000014, -49.0)"
     },
     "execution_count": 106,
     "metadata": {},
     "output_type": "execute_result"
    }
   ],
   "source": [
    "np.linalg.det(A), det_cofat(A)"
   ],
   "metadata": {
    "collapsed": false,
    "pycharm": {
     "name": "#%%\n"
    }
   }
  },
  {
   "cell_type": "code",
   "execution_count": 107,
   "outputs": [],
   "source": [
    "def cramer(M, B, prt):\n",
    "    n = len(M)\n",
    "    c = np.c_[M, B]\n",
    "    d = det_cofat(M)\n",
    "    x = np.zeros(n)\n",
    "    if prt:\n",
    "        print(\"Matriz aumentada [C=A|b] det(A) = %f\" % d)\n",
    "        print(c)\n",
    "    for k in range(0, n):\n",
    "        ak = M.copy()\n",
    "        ak[:, k] = B\n",
    "        dk = det_cofat(ak)\n",
    "        x[k] = dk/d\n",
    "        if prt:\n",
    "            print(\"Matriz A%d    det(A%1d) = %f\" % (k, k, dk))\n",
    "            print(ak)\n",
    "            print(\"x(%d) = %f / %f = %f\\n\" % (k, dk, d, x[k]))\n",
    "    return x"
   ],
   "metadata": {
    "collapsed": false,
    "pycharm": {
     "name": "#%%\n"
    }
   }
  },
  {
   "cell_type": "code",
   "execution_count": 108,
   "outputs": [
    {
     "data": {
      "text/plain": "array([0.81632653, 0.95918367, 0.46938776])"
     },
     "execution_count": 108,
     "metadata": {},
     "output_type": "execute_result"
    }
   ],
   "source": [
    "inv_cofat(A)@ba"
   ],
   "metadata": {
    "collapsed": false,
    "pycharm": {
     "name": "#%%\n"
    }
   }
  },
  {
   "cell_type": "code",
   "execution_count": 109,
   "outputs": [
    {
     "name": "stdout",
     "output_type": "stream",
     "text": [
      "Matriz aumentada [C=A|b] det(A) = -49.000000\n",
      "[[ 2  1  3  4]\n",
      " [-1  3  2  3]\n",
      " [ 3  1 -3  2]]\n",
      "Matriz A0    det(A0) = -40.000000\n",
      "[[ 4  1  3]\n",
      " [ 3  3  2]\n",
      " [ 2  1 -3]]\n",
      "x(0) = -40.000000 / -49.000000 = 0.816327\n",
      "\n",
      "Matriz A1    det(A1) = -47.000000\n",
      "[[ 2  4  3]\n",
      " [-1  3  2]\n",
      " [ 3  2 -3]]\n",
      "x(1) = -47.000000 / -49.000000 = 0.959184\n",
      "\n",
      "Matriz A2    det(A2) = -23.000000\n",
      "[[ 2  1  4]\n",
      " [-1  3  3]\n",
      " [ 3  1  2]]\n",
      "x(2) = -23.000000 / -49.000000 = 0.469388\n",
      "\n"
     ]
    },
    {
     "data": {
      "text/plain": "array([0.81632653, 0.95918367, 0.46938776])"
     },
     "execution_count": 109,
     "metadata": {},
     "output_type": "execute_result"
    }
   ],
   "source": [
    "cramer(A, ba, True)"
   ],
   "metadata": {
    "collapsed": false,
    "pycharm": {
     "name": "#%%\n"
    }
   }
  },
  {
   "cell_type": "code",
   "execution_count": 110,
   "outputs": [],
   "source": [
    "def eliminar_linha(lin, p, c, prt):\n",
    "  c = c.astype(float)\n",
    "  [N, M] = c.shape\n",
    "  if prt:\n",
    "    print(\"(L%d)=(L%d)-(%f)/(%f)*L(%d)\" % (lin, lin, c[lin, p], c[p, p], p))\n",
    "  m = c[lin, p] / c[p, p]\n",
    "  c[lin, p:M+1]=c[lin,p:M+1]-m*c[p,p:M+1]\n",
    "  return c, m\n",
    "\n",
    "def pivotar_coluna(p,l_ini,l_fim,c,prt):\n",
    "     [N,M]=c.shape\n",
    "     linhas = np.arange(l_ini,l_fim)\n",
    "     dist=np.argmax(abs(c[linhas,p]))\n",
    "     if dist!=0:  #troca linhas\n",
    "         c[[ p, (dist+p)],:] = c[[ (dist+p) , p ],:]\n",
    "         if prt:\n",
    "             print(\"Trocando linhas %d e %d\" % (p,dist+p))\n",
    "             pdtabulate=lambda c:tabulate(c,headers='keys')\n",
    "             print(pdtabulate(c))\n",
    "     return c, dist\n",
    "\n",
    "def substituicao_regressiva(a, b, prt):\n",
    "  [N,M]=a.shape\n",
    "  x = np.zeros(N)*np.nan\n",
    "  if a[N - 1, N - 1]!=0: x[N - 1]= b[N - 1] / a[N - 1, N - 1];\n",
    "  if prt:\n",
    "      print(\"Substituição regressiva\\nx(%d)=%f\" % (N-1,x[N-1]))\n",
    "  for lin in range(N-2,-1,-1):\n",
    "     if a[lin, lin]!=0:\n",
    "       x[lin]=(b[lin]-a[lin,lin+1:N] @ x[lin+1:N])/a[lin,lin]\n",
    "     if prt:\n",
    "         print(\"x(%d)=%f\" % (lin,x[lin]))\n",
    "  return x\n",
    "\n",
    "def substituicao_progressiva(a, b, prt):\n",
    "  [N,M] = a.shape\n",
    "  y = np.zeros(N)\n",
    "  y[0]=b[0]\n",
    "  if prt:\n",
    "      print(\"Substituição Progressiva\\ny(%d)=%f\" % (1,y(1)))\n",
    "  for lin in range(1,N):\n",
    "        y[lin]= b[lin]-a[lin,0:lin] @ y[0:lin]\n",
    "        if prt:\n",
    "            print(\"y(%d)=%f\" % (lin,y[lin]))\n",
    "  return y"
   ],
   "metadata": {
    "collapsed": false,
    "pycharm": {
     "name": "#%%\n"
    }
   }
  },
  {
   "cell_type": "code",
   "execution_count": 111,
   "outputs": [],
   "source": [
    "def eliminacao_gauss(a, b, prt, pivot): # com pivotamento\n",
    "   a = a.astype(float)\n",
    "   b = b.astype(float)\n",
    "   C = np.c_[a, b]\n",
    "   [N, M] = C.shape\n",
    "   x = np.zeros(N)\n",
    "   if prt:\n",
    "       print(\"Matriz Aumentada [C=A|b]\")\n",
    "       print(C)\n",
    "   for p in range(N-1):\n",
    "       if pivot:\n",
    "         (C,dist) = pivotar_coluna(p,p,N,C,prt)\n",
    "       elif C[p, p] == 0:\n",
    "          break\n",
    "       if prt:\n",
    "            print(\"Eliminando coluna %d com Pivô %f\" % (p,C[p,p]) )\n",
    "       for lin in range(p+1,N): #eliminação progressiva\n",
    "           (C,m) = eliminar_linha(lin,p,C,prt)\n",
    "       if prt:\n",
    "           print(C)\n",
    "   if C[p, p] != 0:\n",
    "         x = substituicao_regressiva(C[:,0:N],C[:,N],prt)\n",
    "   else:\n",
    "         print(\"Não há solução única pois matriz A é singular\")\n",
    "         x[1:N] = np.inf\n",
    "   return x"
   ],
   "metadata": {
    "collapsed": false,
    "pycharm": {
     "name": "#%%\n"
    }
   }
  },
  {
   "cell_type": "code",
   "execution_count": 112,
   "outputs": [
    {
     "data": {
      "text/plain": "(array([[ 2,  1,  3],\n        [-1,  3,  2],\n        [ 3,  1, -3]]),\n array([4, 3, 2]))"
     },
     "execution_count": 112,
     "metadata": {},
     "output_type": "execute_result"
    }
   ],
   "source": [
    "A, ba"
   ],
   "metadata": {
    "collapsed": false,
    "pycharm": {
     "name": "#%%\n"
    }
   }
  },
  {
   "cell_type": "code",
   "execution_count": 113,
   "outputs": [
    {
     "name": "stdout",
     "output_type": "stream",
     "text": [
      "Matriz Aumentada [C=A|b]\n",
      "[[ 2.  1.  3.  4.]\n",
      " [-1.  3.  2.  3.]\n",
      " [ 3.  1. -3.  2.]]\n",
      "Eliminando coluna 0 com Pivô 2.000000\n",
      "(L1)=(L1)-(-1.000000)/(2.000000)*L(0)\n",
      "(L2)=(L2)-(3.000000)/(2.000000)*L(0)\n",
      "[[ 2.   1.   3.   4. ]\n",
      " [ 0.   3.5  3.5  5. ]\n",
      " [ 0.  -0.5 -7.5 -4. ]]\n",
      "Eliminando coluna 1 com Pivô 3.500000\n",
      "(L2)=(L2)-(-0.500000)/(3.500000)*L(1)\n",
      "[[ 2.          1.          3.          4.        ]\n",
      " [ 0.          3.5         3.5         5.        ]\n",
      " [ 0.          0.         -7.         -3.28571429]]\n",
      "Substituição regressiva\n",
      "x(2)=0.469388\n",
      "x(1)=0.959184\n",
      "x(0)=0.816327\n"
     ]
    },
    {
     "data": {
      "text/plain": "array([0.81632653, 0.95918367, 0.46938776])"
     },
     "execution_count": 113,
     "metadata": {},
     "output_type": "execute_result"
    }
   ],
   "source": [
    "eliminacao_gauss(A, ba, True, False)"
   ],
   "metadata": {
    "collapsed": false,
    "pycharm": {
     "name": "#%%\n"
    }
   }
  },
  {
   "cell_type": "markdown",
   "source": [
    "##### Pivoteamento consiste em trocar as linhas de modo que o elemento pivot (diag. principal) seja sempre o maior da coluna. Resulta em menor propagação de erros de arredondamento."
   ],
   "metadata": {
    "collapsed": false,
    "pycharm": {
     "name": "#%% md\n"
    }
   }
  },
  {
   "cell_type": "code",
   "execution_count": 114,
   "outputs": [
    {
     "name": "stdout",
     "output_type": "stream",
     "text": [
      "Matriz Aumentada [C=A|b]\n",
      "[[ 2.  1.  3.  4.]\n",
      " [-1.  3.  2.  3.]\n",
      " [ 3.  1. -3.  2.]]\n",
      "Trocando linhas 0 e 2\n",
      "  0    1    2    3\n",
      "---  ---  ---  ---\n",
      "  3    1   -3    2\n",
      " -1    3    2    3\n",
      "  2    1    3    4\n",
      "Eliminando coluna 0 com Pivô 3.000000\n",
      "(L1)=(L1)-(-1.000000)/(3.000000)*L(0)\n",
      "(L2)=(L2)-(2.000000)/(3.000000)*L(0)\n",
      "[[ 3.          1.         -3.          2.        ]\n",
      " [ 0.          3.33333333  1.          3.66666667]\n",
      " [ 0.          0.33333333  5.          2.66666667]]\n",
      "Eliminando coluna 1 com Pivô 3.333333\n",
      "(L2)=(L2)-(0.333333)/(3.333333)*L(1)\n",
      "[[ 3.          1.         -3.          2.        ]\n",
      " [ 0.          3.33333333  1.          3.66666667]\n",
      " [ 0.          0.          4.9         2.3       ]]\n",
      "Substituição regressiva\n",
      "x(2)=0.469388\n",
      "x(1)=0.959184\n",
      "x(0)=0.816327\n"
     ]
    },
    {
     "data": {
      "text/plain": "array([0.81632653, 0.95918367, 0.46938776])"
     },
     "execution_count": 114,
     "metadata": {},
     "output_type": "execute_result"
    }
   ],
   "source": [
    "eliminacao_gauss(A, ba, True, True)"
   ],
   "metadata": {
    "collapsed": false,
    "pycharm": {
     "name": "#%%\n"
    }
   }
  },
  {
   "cell_type": "markdown",
   "source": [
    "#### def: o determinante de uma matriz triangular superior é o produto dos elementos de sua diagonal principal\n",
    "\n",
    "#### podemos então calcular o determinante através da Eliminação Progressiva de Gauss, que transforma a matriz A em uma matriz triangular superior."
   ],
   "metadata": {
    "collapsed": false,
    "pycharm": {
     "name": "#%% md\n"
    }
   }
  },
  {
   "cell_type": "code",
   "execution_count": 115,
   "outputs": [],
   "source": [
    "def det_gauss(a, prt):\n",
    "    a = a.astype(float)\n",
    "    [N, M] = a.shape\n",
    "    if prt:\n",
    "        print(\"Matriz A\", A)\n",
    "    n_pivot = 0\n",
    "    for p in range(N-1):\n",
    "        (a, dist) = pivotar_coluna(p, p, N, a, prt)\n",
    "        if dist > 0:\n",
    "            n_pivot += 1\n",
    "        elif a[p, p] == 0:\n",
    "            break\n",
    "        if prt:\n",
    "            print(\"Eliminando coluna %d com pivot %f\\n\" % (p, a[p, p]))\n",
    "        for lin in range(p+1, N):\n",
    "            (a, m) = eliminar_linha(lin, p, a, prt)\n",
    "        if prt:\n",
    "            print(a)\n",
    "    d = np.prod(np.diag(a) * (-1)**n_pivot)\n",
    "    return d"
   ],
   "metadata": {
    "collapsed": false,
    "pycharm": {
     "name": "#%%\n"
    }
   }
  },
  {
   "cell_type": "code",
   "execution_count": 116,
   "outputs": [
    {
     "name": "stdout",
     "output_type": "stream",
     "text": [
      "Matriz A [[ 2  1  3]\n",
      " [-1  3  2]\n",
      " [ 3  1 -3]]\n",
      "Trocando linhas 0 e 2\n",
      "  0    1    2\n",
      "---  ---  ---\n",
      "  3    1   -3\n",
      " -1    3    2\n",
      "  2    1    3\n",
      "Eliminando coluna 0 com pivot 3.000000\n",
      "\n",
      "(L1)=(L1)-(-1.000000)/(3.000000)*L(0)\n",
      "(L2)=(L2)-(2.000000)/(3.000000)*L(0)\n",
      "[[ 3.          1.         -3.        ]\n",
      " [ 0.          3.33333333  1.        ]\n",
      " [ 0.          0.33333333  5.        ]]\n",
      "Eliminando coluna 1 com pivot 3.333333\n",
      "\n",
      "(L2)=(L2)-(0.333333)/(3.333333)*L(1)\n",
      "[[ 3.          1.         -3.        ]\n",
      " [ 0.          3.33333333  1.        ]\n",
      " [ 0.          0.          4.9       ]]\n"
     ]
    },
    {
     "data": {
      "text/plain": "(-49.0, -49.0)"
     },
     "execution_count": 116,
     "metadata": {},
     "output_type": "execute_result"
    }
   ],
   "source": [
    "det_gauss(A, True), det_cofat(A)"
   ],
   "metadata": {
    "collapsed": false,
    "pycharm": {
     "name": "#%%\n"
    }
   }
  },
  {
   "cell_type": "markdown",
   "source": [
    "### Gauss-Jordan"
   ],
   "metadata": {
    "collapsed": false,
    "pycharm": {
     "name": "#%% md\n"
    }
   }
  },
  {
   "cell_type": "code",
   "execution_count": 117,
   "outputs": [],
   "source": [
    "def eliminacao_gaussjordan(a, b, prt):\n",
    "   a = a.astype(float)\n",
    "   b = b.astype(float)\n",
    "   C = np.c_[a, b]\n",
    "   [N, M] = C.shape\n",
    "   x = np.zeros(N)\n",
    "   if prt:\n",
    "       print(\"Matriz Aumentada [C=A|b]\")\n",
    "       print(C)\n",
    "   for p in range(N):\n",
    "       (C, dist) = pivotar_coluna(p,p,N,C,prt)\n",
    "       C[p, :] = C[p, :] / C[p, p]\n",
    "       if prt:\n",
    "            print(\"Eliminando coluna %d com Pivô %f\" % (p,C[p,p]) )\n",
    "       linhas = np.concatenate((np.arange(0, p), np.arange(p+1, N)))\n",
    "       for lin in linhas:\n",
    "           (C, m) = eliminar_linha(lin,p,C,prt)\n",
    "       if prt:\n",
    "           print(C)\n",
    "   if C[p, p] != 0:\n",
    "         x = C[:, N]\n",
    "   else:\n",
    "         print(\"Não há solução única pois matriz A é singular\")\n",
    "         x[1:N] = np.inf\n",
    "   return x"
   ],
   "metadata": {
    "collapsed": false,
    "pycharm": {
     "name": "#%%\n"
    }
   }
  },
  {
   "cell_type": "code",
   "execution_count": 118,
   "outputs": [
    {
     "name": "stdout",
     "output_type": "stream",
     "text": [
      "Matriz Aumentada [C=A|b]\n",
      "[[ 2.  1.  3.  4.]\n",
      " [-1.  3.  2.  3.]\n",
      " [ 3.  1. -3.  2.]]\n",
      "Trocando linhas 0 e 2\n",
      "  0    1    2    3\n",
      "---  ---  ---  ---\n",
      "  3    1   -3    2\n",
      " -1    3    2    3\n",
      "  2    1    3    4\n",
      "Eliminando coluna 0 com Pivô 1.000000\n",
      "(L1)=(L1)-(-1.000000)/(1.000000)*L(0)\n",
      "(L2)=(L2)-(2.000000)/(1.000000)*L(0)\n",
      "[[ 1.          0.33333333 -1.          0.66666667]\n",
      " [ 0.          3.33333333  1.          3.66666667]\n",
      " [ 0.          0.33333333  5.          2.66666667]]\n",
      "Eliminando coluna 1 com Pivô 1.000000\n",
      "(L0)=(L0)-(0.333333)/(1.000000)*L(1)\n",
      "(L2)=(L2)-(0.333333)/(1.000000)*L(1)\n",
      "[[ 1.   0.  -1.1  0.3]\n",
      " [ 0.   1.   0.3  1.1]\n",
      " [ 0.   0.   4.9  2.3]]\n",
      "Eliminando coluna 2 com Pivô 1.000000\n",
      "(L0)=(L0)-(-1.100000)/(1.000000)*L(2)\n",
      "(L1)=(L1)-(0.300000)/(1.000000)*L(2)\n",
      "[[1.         0.         0.         0.81632653]\n",
      " [0.         1.         0.         0.95918367]\n",
      " [0.         0.         1.         0.46938776]]\n"
     ]
    },
    {
     "data": {
      "text/plain": "array([0.81632653, 0.95918367, 0.46938776])"
     },
     "execution_count": 118,
     "metadata": {},
     "output_type": "execute_result"
    }
   ],
   "source": [
    "eliminacao_gaussjordan(A, ba, True)"
   ],
   "metadata": {
    "collapsed": false,
    "pycharm": {
     "name": "#%%\n"
    }
   }
  },
  {
   "cell_type": "markdown",
   "source": [
    "##### Para calcular matriz inversa por Gauss-Jordan, primeiro criamos a matriz aumentada com A na esquerda e Identidade (I) na direita, e manipulamos (eliminacao gauss) tal matriz até termos I na esquerda, e por consequencia, A^-1 na direita."
   ],
   "metadata": {
    "collapsed": false,
    "pycharm": {
     "name": "#%% md\n"
    }
   }
  },
  {
   "cell_type": "code",
   "execution_count": 119,
   "outputs": [],
   "source": [
    "def inv_gauss(a, prt):\n",
    "    a = a.astype(float)\n",
    "    [N, M] = a.shape\n",
    "    C = np.c_[a, np.eye(N)]\n",
    "    [N, M] = C.shape\n",
    "    _Ai = np.zeros((N, N))\n",
    "    if prt:\n",
    "        print(\"Matriz Aumentada C = [A|Ai] \")\n",
    "        print(C)\n",
    "    for p in range(N):\n",
    "        (C, dist) = pivotar_coluna(p, p, N, C, prt)\n",
    "        C[p, :] = C[p, :] / C[p, p]\n",
    "        if prt:\n",
    "            print(\"Eliminando coluna %d com Pivô %f\" % (p,C[p,p]) )\n",
    "            linhas = np.concatenate((np.arange(0, p), np.arange(p+1, N)))\n",
    "            for lin in linhas:\n",
    "                (C, m) = eliminar_linha(lin, p, C, prt)\n",
    "                if prt:\n",
    "                    print(C)\n",
    "                if C[p, p] != 0:\n",
    "                    _Ai = C[0:N, N:2*N]\n",
    "                else:\n",
    "                    print(\"não há solução única pois matriz A é singular.\")\n",
    "                    _Ai = []\n",
    "    return _Ai"
   ],
   "metadata": {
    "collapsed": false,
    "pycharm": {
     "name": "#%%\n"
    }
   }
  },
  {
   "cell_type": "code",
   "execution_count": 120,
   "outputs": [
    {
     "data": {
      "text/plain": "array([[ 0.2244898 , -0.12244898,  0.14285714],\n       [-0.06122449,  0.30612245,  0.14285714],\n       [ 0.20408163, -0.02040816, -0.14285714]])"
     },
     "execution_count": 120,
     "metadata": {},
     "output_type": "execute_result"
    }
   ],
   "source": [
    "inv_cofat(A)"
   ],
   "metadata": {
    "collapsed": false,
    "pycharm": {
     "name": "#%%\n"
    }
   }
  },
  {
   "cell_type": "code",
   "execution_count": 121,
   "outputs": [
    {
     "name": "stdout",
     "output_type": "stream",
     "text": [
      "Matriz Aumentada C = [A|Ai] \n",
      "[[ 2.  1.  3.  1.  0.  0.]\n",
      " [-1.  3.  2.  0.  1.  0.]\n",
      " [ 3.  1. -3.  0.  0.  1.]]\n",
      "Trocando linhas 0 e 2\n",
      "  0    1    2    3    4    5\n",
      "---  ---  ---  ---  ---  ---\n",
      "  3    1   -3    0    0    1\n",
      " -1    3    2    0    1    0\n",
      "  2    1    3    1    0    0\n",
      "Eliminando coluna 0 com Pivô 1.000000\n",
      "(L1)=(L1)-(-1.000000)/(1.000000)*L(0)\n",
      "[[ 1.          0.33333333 -1.          0.          0.          0.33333333]\n",
      " [ 0.          3.33333333  1.          0.          1.          0.33333333]\n",
      " [ 2.          1.          3.          1.          0.          0.        ]]\n",
      "(L2)=(L2)-(2.000000)/(1.000000)*L(0)\n",
      "[[ 1.          0.33333333 -1.          0.          0.          0.33333333]\n",
      " [ 0.          3.33333333  1.          0.          1.          0.33333333]\n",
      " [ 0.          0.33333333  5.          1.          0.         -0.66666667]]\n",
      "Eliminando coluna 1 com Pivô 1.000000\n",
      "(L0)=(L0)-(0.333333)/(1.000000)*L(1)\n",
      "[[ 1.          0.         -1.1         0.         -0.1         0.3       ]\n",
      " [ 0.          1.          0.3         0.          0.3         0.1       ]\n",
      " [ 0.          0.33333333  5.          1.          0.         -0.66666667]]\n",
      "(L2)=(L2)-(0.333333)/(1.000000)*L(1)\n",
      "[[ 1.   0.  -1.1  0.  -0.1  0.3]\n",
      " [ 0.   1.   0.3  0.   0.3  0.1]\n",
      " [ 0.   0.   4.9  1.  -0.1 -0.7]]\n",
      "Eliminando coluna 2 com Pivô 1.000000\n",
      "(L0)=(L0)-(-1.100000)/(1.000000)*L(2)\n",
      "[[ 1.          0.          0.          0.2244898  -0.12244898  0.14285714]\n",
      " [ 0.          1.          0.3         0.          0.3         0.1       ]\n",
      " [ 0.          0.          1.          0.20408163 -0.02040816 -0.14285714]]\n",
      "(L1)=(L1)-(0.300000)/(1.000000)*L(2)\n",
      "[[ 1.          0.          0.          0.2244898  -0.12244898  0.14285714]\n",
      " [ 0.          1.          0.         -0.06122449  0.30612245  0.14285714]\n",
      " [ 0.          0.          1.          0.20408163 -0.02040816 -0.14285714]]\n"
     ]
    },
    {
     "data": {
      "text/plain": "array([[ 0.2244898 , -0.12244898,  0.14285714],\n       [-0.06122449,  0.30612245,  0.14285714],\n       [ 0.20408163, -0.02040816, -0.14285714]])"
     },
     "execution_count": 121,
     "metadata": {},
     "output_type": "execute_result"
    }
   ],
   "source": [
    "inv_gauss(A, True)"
   ],
   "metadata": {
    "collapsed": false,
    "pycharm": {
     "name": "#%%\n"
    }
   }
  },
  {
   "cell_type": "markdown",
   "source": [
    "#### Fatoração LU"
   ],
   "metadata": {
    "collapsed": false,
    "pycharm": {
     "name": "#%% md\n"
    }
   }
  },
  {
   "cell_type": "code",
   "execution_count": 122,
   "outputs": [],
   "source": [
    "def fatoracao_lu(a,prt): # com pivotamento\n",
    "   a = a.astype(float)\n",
    "   [N,M]=A.shape\n",
    "   L = np.eye(N)\n",
    "   P = L.copy()\n",
    "   U = A.copy()\n",
    "   if prt:\n",
    "       print(\"Matriz Aumentada [C=A|b]\")\n",
    "       print(np.c_[L, U])\n",
    "   for p in range(N-1):\n",
    "       (U ,dist)=pivotar_coluna(p,p,N,U,prt)\n",
    "       if dist>1:\n",
    "          P[[ p, (dist+p)],:] = P[[ (dist+p) , p ],:]\n",
    "          for col in range(p): # troca linhas abaixo da diagonal\n",
    "            if col<p:\n",
    "               L[[p,(dist+p)],col] = L[[(dist+p),p],col]\n",
    "          if prt:\n",
    "            print(\"Trocando linhas %d e %d de U\" % (p,p+dist))\n",
    "            print(\"Trocando linhas %d e %d de L abaixo da diagonal\" % (p,p+dist))\n",
    "            print(np.c_[L, U])\n",
    "       if U[p, p]==0:\n",
    "           break\n",
    "       for lin in range(p+1,N): #eliminação progressiva\n",
    "           (U, m)=eliminar_linha(lin,p,U,prt)\n",
    "           L[lin,p] = m\n",
    "       if prt:\n",
    "           print(np.c_[L, U])\n",
    "   return L, U, P\n"
   ],
   "metadata": {
    "collapsed": false,
    "pycharm": {
     "name": "#%%\n"
    }
   }
  },
  {
   "cell_type": "code",
   "execution_count": 122,
   "outputs": [],
   "source": [],
   "metadata": {
    "collapsed": false,
    "pycharm": {
     "name": "#%%\n"
    }
   }
  },
  {
   "cell_type": "markdown",
   "source": [
    "#### Resolução de sistema usando os fatores L, U"
   ],
   "metadata": {
    "collapsed": false,
    "pycharm": {
     "name": "#%% md\n"
    }
   }
  },
  {
   "cell_type": "code",
   "execution_count": 123,
   "outputs": [],
   "source": [
    "def solucao_lu(L,U,P,b,prt):\n",
    "    bp = P @ b\n",
    "    y = substituicao_progressiva(L,bp,False)\n",
    "    x = substituicao_regressiva(U,y,False)\n",
    "    if prt:\n",
    "        print(\"[b bp]\")\n",
    "        print(np.c_[b, bp])\n",
    "        print(\"matriz aumentada  [L  bp y]\")\n",
    "        print(np.c_[L, bp, y])\n",
    "        print(\"matriz aumentada  [U y x]\")\n",
    "        print(np.c_[U, y, x])\n",
    "    return x"
   ],
   "metadata": {
    "collapsed": false,
    "pycharm": {
     "name": "#%%\n"
    }
   }
  },
  {
   "cell_type": "code",
   "execution_count": 125,
   "outputs": [
    {
     "name": "stdout",
     "output_type": "stream",
     "text": [
      "Matriz Aumentada [C=A|b]\n",
      "[[ 1.  0.  0.  2.  1.  3.]\n",
      " [ 0.  1.  0. -1.  3.  2.]\n",
      " [ 0.  0.  1.  3.  1. -3.]]\n",
      "Trocando linhas 0 e 2\n",
      "  0    1    2\n",
      "---  ---  ---\n",
      "  3    1   -3\n",
      " -1    3    2\n",
      "  2    1    3\n",
      "Trocando linhas 0 e 2 de U\n",
      "Trocando linhas 0 e 2 de L abaixo da diagonal\n",
      "[[ 1.  0.  0.  3.  1. -3.]\n",
      " [ 0.  1.  0. -1.  3.  2.]\n",
      " [ 0.  0.  1.  2.  1.  3.]]\n",
      "(L1)=(L1)-(-1.000000)/(3.000000)*L(0)\n",
      "(L2)=(L2)-(2.000000)/(3.000000)*L(0)\n",
      "[[ 1.          0.          0.          3.          1.         -3.        ]\n",
      " [-0.33333333  1.          0.          0.          3.33333333  1.        ]\n",
      " [ 0.66666667  0.          1.          0.          0.33333333  5.        ]]\n",
      "(L2)=(L2)-(0.333333)/(3.333333)*L(1)\n",
      "[[ 1.          0.          0.          3.          1.         -3.        ]\n",
      " [-0.33333333  1.          0.          0.          3.33333333  1.        ]\n",
      " [ 0.66666667  0.1         1.          0.          0.          4.9       ]]\n"
     ]
    },
    {
     "data": {
      "text/plain": "(array([[ 1.        ,  0.        ,  0.        ],\n        [-0.33333333,  1.        ,  0.        ],\n        [ 0.66666667,  0.1       ,  1.        ]]),\n array([[ 3.        ,  1.        , -3.        ],\n        [ 0.        ,  3.33333333,  1.        ],\n        [ 0.        ,  0.        ,  4.9       ]]),\n array([[0., 0., 1.],\n        [0., 1., 0.],\n        [1., 0., 0.]]))"
     },
     "execution_count": 125,
     "metadata": {},
     "output_type": "execute_result"
    }
   ],
   "source": [
    "(l, u, p_) = fatoracao_lu(A, True)\n",
    "(l, u, p_)"
   ],
   "metadata": {
    "collapsed": false,
    "pycharm": {
     "name": "#%%\n"
    }
   }
  },
  {
   "cell_type": "code",
   "execution_count": 126,
   "outputs": [
    {
     "name": "stdout",
     "output_type": "stream",
     "text": [
      "[b bp]\n",
      "[[4. 2.]\n",
      " [3. 3.]\n",
      " [2. 4.]]\n",
      "matriz aumentada  [L  bp y]\n",
      "[[ 1.          0.          0.          2.          2.        ]\n",
      " [-0.33333333  1.          0.          3.          3.66666667]\n",
      " [ 0.66666667  0.1         1.          4.          2.3       ]]\n",
      "matriz aumentada  [U y x]\n",
      "[[ 3.          1.         -3.          2.          0.81632653]\n",
      " [ 0.          3.33333333  1.          3.66666667  0.95918367]\n",
      " [ 0.          0.          4.9         2.3         0.46938776]]\n"
     ]
    },
    {
     "data": {
      "text/plain": "array([0.81632653, 0.95918367, 0.46938776])"
     },
     "execution_count": 126,
     "metadata": {},
     "output_type": "execute_result"
    }
   ],
   "source": [
    "solucao_lu(l, u, p_, ba, True)"
   ],
   "metadata": {
    "collapsed": false,
    "pycharm": {
     "name": "#%%\n"
    }
   }
  },
  {
   "cell_type": "markdown",
   "source": [
    "#### Sistemas tridiagonais"
   ],
   "metadata": {
    "collapsed": false,
    "pycharm": {
     "name": "#%% md\n"
    }
   }
  },
  {
   "cell_type": "code",
   "execution_count": 131,
   "outputs": [],
   "source": [
    "def tridiagonal(dl,dp,du,r):\n",
    "    dl= dl.astype(float)\n",
    "    dp= dp.astype(float)\n",
    "    du= du.astype(float)\n",
    "    r = r.astype(float)\n",
    "    N=len(r)\n",
    "    y = np.zeros(N)\n",
    "    for k in range(1,N): #eliminação progressiva\n",
    "        m=dl[k-1]/dp[k-1];\n",
    "        dp[k]=dp[k]-m*du[k-1];\n",
    "        r[k]=r[k]-m*r[k-1];\n",
    "    y[N-1]=r[N-1]/dp[N-1]; #substituição regressiva\n",
    "    for k in range(N-2,-1,-1):\n",
    "        y[k]=(r[k]-du[k]*y[k+1])/dp[k];\n",
    "    return y"
   ],
   "metadata": {
    "collapsed": false,
    "pycharm": {
     "name": "#%%\n"
    }
   }
  },
  {
   "cell_type": "code",
   "execution_count": 132,
   "outputs": [
    {
     "data": {
      "text/plain": "array([[ 1,  3,  0,  0,  0,  0,  0,  0,  0,  0,  0,  0,  0,  0,  0],\n       [ 7,  3,  7,  0,  0,  0,  0,  0,  0,  0,  0,  0,  0,  0,  0],\n       [ 0,  9,  5,  3,  0,  0,  0,  0,  0,  0,  0,  0,  0,  0,  0],\n       [ 0,  0,  4,  3,  2,  0,  0,  0,  0,  0,  0,  0,  0,  0,  0],\n       [ 0,  0,  0,  1,  4,  1,  0,  0,  0,  0,  0,  0,  0,  0,  0],\n       [ 0,  0,  0,  0,  2,  6,  5,  0,  0,  0,  0,  0,  0,  0,  0],\n       [ 0,  0,  0,  0,  0, 34,  7,  3,  0,  0,  0,  0,  0,  0,  0],\n       [ 0,  0,  0,  0,  0,  0, 32,  5,  9,  0,  0,  0,  0,  0,  0],\n       [ 0,  0,  0,  0,  0,  0,  0, 65,  3,  8,  0,  0,  0,  0,  0],\n       [ 0,  0,  0,  0,  0,  0,  0,  0, 23,  5, 24,  0,  0,  0,  0],\n       [ 0,  0,  0,  0,  0,  0,  0,  0,  0, 12,  6, 12,  0,  0,  0],\n       [ 0,  0,  0,  0,  0,  0,  0,  0,  0,  0, 12,  8,  6,  0,  0],\n       [ 0,  0,  0,  0,  0,  0,  0,  0,  0,  0,  0,  5, 10,  7,  0],\n       [ 0,  0,  0,  0,  0,  0,  0,  0,  0,  0,  0,  0,  9,  7,  8],\n       [ 0,  0,  0,  0,  0,  0,  0,  0,  0,  0,  0,  0,  0,  3, 14]])"
     },
     "execution_count": 132,
     "metadata": {},
     "output_type": "execute_result"
    }
   ],
   "source": [
    "dl = np.array([7,9,4,1,2,34,32,65,23,12,12,5,9,3])\n",
    "dp = np.array([1,3,5,3,4,6,7,5,3,5,6,8,10,7,14])\n",
    "du = np.array([3,7,3,2,1,5,3,9,8,24,12,6,7,8])\n",
    "r=np.array([1,1.98,4.99,2.98,6.97,4.01,4.98,2.25,3.37,6.94,4.92,3.04,5.97,7.91,1.89]) # vetor dos termos independentes\n",
    "A = np.diag(dp) + np.diag(du, 1) + np.diag(dl, -1)\n",
    "A"
   ],
   "metadata": {
    "collapsed": false,
    "pycharm": {
     "name": "#%%\n"
    }
   }
  },
  {
   "cell_type": "code",
   "execution_count": 133,
   "outputs": [
    {
     "data": {
      "text/plain": "array([-0.77,  0.59,  0.8 , -1.44,  2.05,  0.21, -0.27, -0.09,  1.26,\n        0.68, -1.06,  0.26,  2.28, -2.59,  0.69])"
     },
     "execution_count": 133,
     "metadata": {},
     "output_type": "execute_result"
    }
   ],
   "source": [
    "tridiagonal(dl, dp, du, r)"
   ],
   "metadata": {
    "collapsed": false,
    "pycharm": {
     "name": "#%%\n"
    }
   }
  },
  {
   "cell_type": "code",
   "execution_count": null,
   "outputs": [],
   "source": [],
   "metadata": {
    "collapsed": false,
    "pycharm": {
     "name": "#%%\n"
    }
   }
  }
 ],
 "metadata": {
  "kernelspec": {
   "display_name": "Python 3",
   "language": "python",
   "name": "python3"
  },
  "language_info": {
   "codemirror_mode": {
    "name": "ipython",
    "version": 2
   },
   "file_extension": ".py",
   "mimetype": "text/x-python",
   "name": "python",
   "nbconvert_exporter": "python",
   "pygments_lexer": "ipython2",
   "version": "2.7.6"
  }
 },
 "nbformat": 4,
 "nbformat_minor": 0
}